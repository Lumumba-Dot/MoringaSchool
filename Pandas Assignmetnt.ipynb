{
 "cells": [
  {
   "cell_type": "code",
   "execution_count": 1,
   "id": "f65491b3-c2f6-424f-b072-82a66bb52530",
   "metadata": {
    "tags": []
   },
   "outputs": [],
   "source": [
    "import numpy as np\n",
    "import pandas as pd"
   ]
  },
  {
   "cell_type": "code",
   "execution_count": 2,
   "id": "38245679-ab03-4dec-8d1d-91415b04f23c",
   "metadata": {
    "tags": []
   },
   "outputs": [],
   "source": [
    "random_nyumbas =np.random.randint(4000,20000, size=120)"
   ]
  },
  {
   "cell_type": "code",
   "execution_count": 3,
   "id": "6af8d49a-fe4b-4da0-9a71-246d39cdc918",
   "metadata": {
    "tags": []
   },
   "outputs": [
    {
     "data": {
      "text/plain": [
       "array([18839, 10352, 15420,  4571,  8383, 14735, 11365,  8470, 10865,\n",
       "        8858, 18427, 14793, 17151, 14341,  6415, 13668,  5407, 10500,\n",
       "       16754, 19413,  5979,  7077, 10090,  7919, 12994, 10466,  6634,\n",
       "       14323, 19132, 18691,  4361, 11293, 14468,  9109,  9233, 15597,\n",
       "        9396,  7547, 14213,  5341, 10265, 12731, 10810, 18507, 19095,\n",
       "        9842, 19431, 10532, 17849, 11644,  7380, 18356,  7826, 17391,\n",
       "       14131, 12368,  4620,  5118, 16286, 14560, 11529, 13626, 12450,\n",
       "       15866, 15481, 10336, 12245, 11002, 18128, 12667, 17998, 11833,\n",
       "       18156, 16810,  4875,  5912, 15186, 12394, 10935, 16945, 16563,\n",
       "        9089, 17736, 17648,  5991, 14863, 17716, 11318,  4428, 13360,\n",
       "       18935, 14529,  4662, 13583,  6341, 18976,  9749,  7205, 11333,\n",
       "        6360, 19577, 12553, 13545,  9604, 12822, 14019, 19806,  9620,\n",
       "       18792,  9625, 10252, 11162, 17019,  6503, 17195, 17088,  4086,\n",
       "        8856, 15849,  9401])"
      ]
     },
     "execution_count": 3,
     "metadata": {},
     "output_type": "execute_result"
    }
   ],
   "source": [
    "random_nyumbas"
   ]
  },
  {
   "cell_type": "code",
   "execution_count": 4,
   "id": "af10aa95-d375-4380-922e-0654433e70c0",
   "metadata": {
    "tags": []
   },
   "outputs": [
    {
     "data": {
      "text/plain": [
       "0      18839\n",
       "1      10352\n",
       "2      15420\n",
       "3       4571\n",
       "4       8383\n",
       "       ...  \n",
       "115    17088\n",
       "116     4086\n",
       "117     8856\n",
       "118    15849\n",
       "119     9401\n",
       "Name: nyumba_ziko, Length: 120, dtype: int32"
      ]
     },
     "execution_count": 4,
     "metadata": {},
     "output_type": "execute_result"
    }
   ],
   "source": [
    "#Display the first and last 7 houses.\n",
    "random_nyumbas= pd.Series(random_nyumbas, name=\"nyumba_ziko\")\n",
    "random_nyumbas"
   ]
  },
  {
   "cell_type": "code",
   "execution_count": 5,
   "id": "beb5d9b0-9c0e-4ef5-8f3f-08f36c9853ba",
   "metadata": {
    "tags": []
   },
   "outputs": [
    {
     "data": {
      "text/plain": [
       "0    18839\n",
       "1    10352\n",
       "2    15420\n",
       "3     4571\n",
       "4     8383\n",
       "5    14735\n",
       "6    11365\n",
       "Name: nyumba_ziko, dtype: int32"
      ]
     },
     "execution_count": 5,
     "metadata": {},
     "output_type": "execute_result"
    }
   ],
   "source": [
    "#Display the first and last 7 houses.\n",
    "random_nyumbas.head(7)"
   ]
  },
  {
   "cell_type": "code",
   "execution_count": 6,
   "id": "8577fb37-da37-4107-affc-54e99f7f3bbc",
   "metadata": {
    "tags": []
   },
   "outputs": [
    {
     "data": {
      "text/plain": [
       "113     6503\n",
       "114    17195\n",
       "115    17088\n",
       "116     4086\n",
       "117     8856\n",
       "118    15849\n",
       "119     9401\n",
       "Name: nyumba_ziko, dtype: int32"
      ]
     },
     "execution_count": 6,
     "metadata": {},
     "output_type": "execute_result"
    }
   ],
   "source": [
    "random_nyumbas.tail(7)"
   ]
  },
  {
   "cell_type": "code",
   "execution_count": 7,
   "id": "00861e26-8884-42d6-93d6-5b5dc5619d88",
   "metadata": {
    "tags": []
   },
   "outputs": [],
   "source": [
    "#Create a function that will take in the price of the house and return the category of that house, eg Suburb. The category is of your own series.\n",
    "def nyumba_category(a):\n",
    "    if a <= 3000:\n",
    "        return \"Kibich\"\n",
    "    elif a <= 9000:\n",
    "        return \"Ruaka\"\n",
    "    elif a <= 15000:\n",
    "        return \"Paipu\"\n",
    "    elif a <= 20000:\n",
    "        return \"Runda\"\n",
    "    else: return \"Kwani Unaishi?\""
   ]
  },
  {
   "cell_type": "code",
   "execution_count": 8,
   "id": "93c7edf9-7def-403f-a076-949fb4710606",
   "metadata": {
    "tags": []
   },
   "outputs": [],
   "source": [
    "#Apply the function created above to the series.\n",
    "house_zone = random_nyumbas.apply(nyumba_category)"
   ]
  },
  {
   "cell_type": "code",
   "execution_count": 9,
   "id": "d6a0530b-f034-4ad7-a5f6-ab217f4fcc0b",
   "metadata": {
    "tags": []
   },
   "outputs": [],
   "source": [
    "#Apply a lambda function to increase the property prices by 10% due to the new tax laws.\n",
    "price_increase = pd.Series(random_nyumbas).apply(lambda a: a * 1.10)"
   ]
  },
  {
   "cell_type": "code",
   "execution_count": 10,
   "id": "2df0f1b2-3615-49e7-aaf5-4d5db5f669ee",
   "metadata": {
    "tags": []
   },
   "outputs": [],
   "source": [
    "#Apply a custom function to increase the property prices by and additional Ksh 250 for garbage.\n",
    "def garbage_price(a):\n",
    "    return a+250\n",
    "\n",
    "overall_price=pd.Series(price_increase).apply(garbage_price)\n"
   ]
  },
  {
   "cell_type": "code",
   "execution_count": 11,
   "id": "c9a5b015-b698-4122-a13b-f16af4ca6afc",
   "metadata": {
    "tags": []
   },
   "outputs": [
    {
     "name": "stdout",
     "output_type": "stream",
     "text": [
      "\\Moringa_property:\n",
      "     Nyumba Rates  Zones  Zakayos  Overall Price\n",
      "90          18935  Runda  20828.5        21078.5\n",
      "91          14529  Paipu  15981.9        16231.9\n",
      "92           4662  Ruaka   5128.2         5378.2\n",
      "93          13583  Paipu  14941.3        15191.3\n",
      "94           6341  Ruaka   6975.1         7225.1\n",
      "95          18976  Runda  20873.6        21123.6\n",
      "96           9749  Paipu  10723.9        10973.9\n",
      "97           7205  Ruaka   7925.5         8175.5\n",
      "98          11333  Paipu  12466.3        12716.3\n",
      "99           6360  Ruaka   6996.0         7246.0\n",
      "100         19577  Runda  21534.7        21784.7\n",
      "101         12553  Paipu  13808.3        14058.3\n",
      "102         13545  Paipu  14899.5        15149.5\n",
      "103          9604  Paipu  10564.4        10814.4\n",
      "104         12822  Paipu  14104.2        14354.2\n",
      "105         14019  Paipu  15420.9        15670.9\n",
      "106         19806  Runda  21786.6        22036.6\n",
      "107          9620  Paipu  10582.0        10832.0\n",
      "108         18792  Runda  20671.2        20921.2\n",
      "109          9625  Paipu  10587.5        10837.5\n",
      "110         10252  Paipu  11277.2        11527.2\n",
      "111         11162  Paipu  12278.2        12528.2\n",
      "112         17019  Runda  18720.9        18970.9\n",
      "113          6503  Ruaka   7153.3         7403.3\n",
      "114         17195  Runda  18914.5        19164.5\n",
      "115         17088  Runda  18796.8        19046.8\n",
      "116          4086  Ruaka   4494.6         4744.6\n",
      "117          8856  Ruaka   9741.6         9991.6\n",
      "118         15849  Runda  17433.9        17683.9\n",
      "119          9401  Paipu  10341.1        10591.1\n"
     ]
    }
   ],
   "source": [
    "#Create a new Series for each step and Finally Combine them all into a DataFrame name 'Moringa_property'.\n",
    "tabulation= {\n",
    "    'Nyumba Rates': random_nyumbas,\n",
    "    'Zones': house_zone,\n",
    "    'Zakayos': price_increase,\n",
    "    'Overall Price': overall_price\n",
    "}\n",
    "\n",
    "\n",
    "Moringa_property = pd.DataFrame(tabulation)\n",
    "\n",
    "print(\"\\Moringa_property:\")\n",
    "print(Moringa_property.tail(30))"
   ]
  },
  {
   "cell_type": "code",
   "execution_count": null,
   "id": "438b2fd0-2fec-4853-b756-754605fec0e5",
   "metadata": {},
   "outputs": [],
   "source": []
  }
 ],
 "metadata": {
  "kernelspec": {
   "display_name": "Python 3 (ipykernel)",
   "language": "python",
   "name": "python3"
  },
  "language_info": {
   "codemirror_mode": {
    "name": "ipython",
    "version": 3
   },
   "file_extension": ".py",
   "mimetype": "text/x-python",
   "name": "python",
   "nbconvert_exporter": "python",
   "pygments_lexer": "ipython3",
   "version": "3.11.3"
  }
 },
 "nbformat": 4,
 "nbformat_minor": 5
}
