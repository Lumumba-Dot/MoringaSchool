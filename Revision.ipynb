{
 "cells": [
  {
   "cell_type": "code",
   "execution_count": 2,
   "id": "a2e4c98c-d835-445a-a18c-16e3ce851ccd",
   "metadata": {
    "tags": []
   },
   "outputs": [
    {
     "name": "stdin",
     "output_type": "stream",
     "text": [
      "Enter English score 60\n",
      "Enter Kiswahili score 75\n",
      "Enter Maths score 90\n",
      "Enter Science score 92\n",
      "Enter GHC score 90\n"
     ]
    },
    {
     "data": {
      "text/plain": [
       "['60', '75', '90', '92', '90']"
      ]
     },
     "execution_count": 2,
     "metadata": {},
     "output_type": "execute_result"
    }
   ],
   "source": [
    "def get_grade():\n",
    "    \"\"\" get user input\"\"\"\n",
    "    # count = 5\n",
    "    student_scores = []\n",
    "    subjects = [\"English\", \"Kiswahili\", \"Maths\", \"Science\", \"GHC\"]\n",
    "    # while(count <= 5):\n",
    "    for subject in subjects:\n",
    "        score = input(f\"Enter {subject} score\")\n",
    "        student_scores.append(score)\n",
    "    return student_scores\n",
    "get_grade()"
   ]
  },
  {
   "cell_type": "code",
   "execution_count": 14,
   "id": "ae7ff1f6-57b1-4d6c-bb9a-58665d6e32b2",
   "metadata": {
    "tags": []
   },
   "outputs": [
    {
     "name": "stdin",
     "output_type": "stream",
     "text": [
      "student name e.g John Doe \n",
      " Bitutu Setura \n"
     ]
    },
    {
     "data": {
      "text/plain": [
       "'Bitutu Setura '"
      ]
     },
     "execution_count": 14,
     "metadata": {},
     "output_type": "execute_result"
    }
   ],
   "source": [
    "#Function to get student name\n",
    "def get_student_name():\n",
    "    name= input(\"student name e.g John Doe \\n\")\n",
    "    return name\n",
    "get_student_name()"
   ]
  },
  {
   "cell_type": "code",
   "execution_count": 28,
   "id": "839b73a3-1969-4ea1-89a7-1d3fc715eec0",
   "metadata": {
    "tags": []
   },
   "outputs": [
    {
     "name": "stdin",
     "output_type": "stream",
     "text": [
      "Enter English score 89\n",
      "Enter Kiswahili score 90\n",
      "Enter Maths score 90\n",
      "Enter Science score 90\n",
      "Enter GHC score 90\n"
     ]
    },
    {
     "data": {
      "text/plain": [
       "[89, 90, 90, 90, 90]"
      ]
     },
     "execution_count": 28,
     "metadata": {},
     "output_type": "execute_result"
    }
   ],
   "source": [
    "#Get student Scores\n",
    "def get_scores():\n",
    "    \"\"\" get user input\"\"\"\n",
    "    # count = 5\n",
    "    student_scores = []\n",
    "    subjects = [\"English\", \"Kiswahili\", \"Maths\", \"Science\", \"GHC\"]\n",
    "    # while(count <= 5):\n",
    "    for subject in subjects:\n",
    "        score = int(input(f\"Enter {subject} score\"))\n",
    "        student_scores.append(score)\n",
    "    return student_scores\n",
    "get_scores()"
   ]
  },
  {
   "cell_type": "code",
   "execution_count": 48,
   "id": "6c60d605-c98b-492b-b110-8da30b4b4ee9",
   "metadata": {
    "tags": []
   },
   "outputs": [],
   "source": [
    "def student_performance():\n",
    "    \"\"\"\n",
    "    Get student name \n",
    "    Get student scores\n",
    "    Grade student scores \n",
    "    \"\"\"\n",
    "    student_name = get_student_name()\n",
    "    student_scores = get_scores()\n",
    "    student_grades = []\n",
    "    # loop through the grades\n",
    "    for score in student_scores:\n",
    "        if (score >=70) and (score <=100):\n",
    "            grade = \"A\"\n",
    "            student_grades.append(grade)\n",
    "        elif (score <=69) and (score >= 60):\n",
    "            grade = \"B\"\n",
    "            student_grades.append(grade)\n",
    "        elif (score <=59) and (score >= 50):\n",
    "            grade = \"C\"\n",
    "            student_grades.append(grade)\n",
    "        elif (score <=49) and (score >= 40):\n",
    "            grade = \"D\"\n",
    "            student_grades.append(grade)\n",
    "        elif (score <=39) and (score >= 0):\n",
    "            grade = \"E\"\n",
    "            student_grades.append(grade)\n",
    "            grade = \"E\"\n",
    "        else:\n",
    "            print(\"inavlid grade\")\n",
    "            student_grades.append(None)\n",
    "        \n",
    "        total= sum(student_scores)\n",
    "            \n",
    "        return student_name, student_scores, student_grades, total"
   ]
  },
  {
   "cell_type": "code",
   "execution_count": 49,
   "id": "f4227484-8a47-4d9c-b2f6-2528dba468d4",
   "metadata": {
    "tags": []
   },
   "outputs": [
    {
     "name": "stdin",
     "output_type": "stream",
     "text": [
      "student name e.g John Doe \n",
      " Bitutu Setura\n",
      "Enter English score 90\n",
      "Enter Kiswahili score 90\n",
      "Enter Maths score 95\n",
      "Enter Science score 97\n",
      "Enter GHC score 90\n"
     ]
    },
    {
     "data": {
      "text/plain": [
       "('Bitutu Setura', [90, 90, 95, 97, 90], ['A'], 462)"
      ]
     },
     "execution_count": 49,
     "metadata": {},
     "output_type": "execute_result"
    }
   ],
   "source": [
    "student_performance()"
   ]
  },
  {
   "cell_type": "code",
   "execution_count": 50,
   "id": "2bfcee9a-aba5-4695-bf3b-ddf4d0010e99",
   "metadata": {
    "tags": []
   },
   "outputs": [],
   "source": [
    "def student_performance():\n",
    "    \"\"\"Get student name\n",
    "        Get students \n",
    "    sum the students\n",
    "    \"\"\"\n",
    "    \n",
    "    student_name = get_student_name()\n",
    "    student_scores = get_scores()\n",
    "    student_grade = []\n",
    "    #loop through the grades\n",
    "    for score in student_scores:\n",
    "        if (score >=70) and (score<=100):\n",
    "            grade=\"A\"\n",
    "            student_grade.append(grade)\n",
    "            \n",
    "        elif (score >=60) and (score <70):\n",
    "            grade =\"B\"\n",
    "            student_grade.append(grade)\n",
    "              \n",
    "        elif (score >=50) and (score <60):\n",
    "            grade =\"C\"\n",
    "            student_grade.append(grade)\n",
    "              \n",
    "        elif (score >=40) and (score <50):\n",
    "            grade =\"D\"\n",
    "            student_grade.append(grade)\n",
    "              \n",
    "        elif (score >=0) and (score <40):\n",
    "            grade =\"E\"\n",
    "            student_grade.append(grade)\n",
    "        else:\n",
    "            print(\"Invalid grade\")\n",
    "            student_grade.append(None)\n",
    "    total=sum(student_scores)\n",
    "              \n",
    "    return student_name, student_scores,student_grade, total"
   ]
  },
  {
   "cell_type": "code",
   "execution_count": 51,
   "id": "e051b78b-4c43-4567-8862-c5c05dc5f267",
   "metadata": {
    "tags": []
   },
   "outputs": [
    {
     "name": "stdin",
     "output_type": "stream",
     "text": [
      "student name e.g John Doe \n",
      " Bitutu Setura\n",
      "Enter English score 90\n",
      "Enter Kiswahili score 85\n",
      "Enter Maths score 95\n",
      "Enter Science score 98\n",
      "Enter GHC score 90\n"
     ]
    },
    {
     "data": {
      "text/plain": [
       "('Bitutu Setura', [90, 85, 95, 98, 90], ['A', 'A', 'A', 'A', 'A'], 458)"
      ]
     },
     "execution_count": 51,
     "metadata": {},
     "output_type": "execute_result"
    }
   ],
   "source": [
    "student_performance()"
   ]
  },
  {
   "cell_type": "code",
   "execution_count": 67,
   "id": "e0ea63ba-a386-40d8-9162-da4460b692d8",
   "metadata": {
    "tags": []
   },
   "outputs": [
    {
     "name": "stdin",
     "output_type": "stream",
     "text": [
      "student name e.g John Doe \n",
      " Bitutu\n",
      "Enter English score 90\n",
      "Enter Kiswahili score 90\n",
      "Enter Maths score 97\n",
      "Enter Science score 96\n",
      "Enter GHC score 95\n",
      "student name e.g John Doe \n",
      " Tichi\n",
      "Enter English score 98\n",
      "Enter Kiswahili score 97\n",
      "Enter Maths score 95\n",
      "Enter Science score 95\n",
      "Enter GHC score 90\n"
     ]
    }
   ],
   "source": [
    "# Adding more students\n",
    "student_number = 0\n",
    "Class_performance= {\n",
    "    \"Name\":[],\n",
    "    \"English\":[],\n",
    "    \"English_grade\":[],\n",
    "    \"Kiswahili\":[],\n",
    "    \"Kiswahili_grade\":[],\n",
    "    \"Maths\":[],\n",
    "    \"Maths_grade\":[],\n",
    "    \"Science\":[],\n",
    "    \"Science_grade\":[],\n",
    "    \"GHC\":[],\n",
    "    \"GHC_grade\":[],\n",
    "    \"total\":[]   \n",
    "}\n",
    "while (student_number <2):\n",
    "    individual_student = student_performance()\n",
    "    individual_student =list(individual_student)\n",
    "    Class_performance[\"Name\"].append (individual_student[0]) #First name in the individual performance list\n",
    "    Class_performance[\"English\"].append (individual_student[1][0])\n",
    "    Class_performance[\"English_grade\"].append (individual_student[2][0])\n",
    "    Class_performance[\"Kiswahili\"].append (individual_student[1][1])\n",
    "    Class_performance[\"Kiswahili_grade\"].append (individual_student[2][1])\n",
    "    Class_performance[\"Maths\"].append (individual_student[1][2])\n",
    "    Class_performance[\"Maths_grade\"].append (individual_student[2][2])\n",
    "    Class_performance[\"Science\"].append (individual_student[1][3])\n",
    "    Class_performance[\"Science_grade\"].append (individual_student[2][3])\n",
    "    Class_performance[\"GHC\"].append (individual_student[1][4])\n",
    "    Class_performance[\"GHC_grade\"].append (individual_student[2][4])\n",
    "    Class_performance[\"total\"].append (individual_student[3])\n",
    "    student_number +=1\n",
    "    "
   ]
  },
  {
   "cell_type": "code",
   "execution_count": 69,
   "id": "b22c7d13-f0b4-4d5c-ab88-9877e8958577",
   "metadata": {
    "tags": []
   },
   "outputs": [
    {
     "name": "stdout",
     "output_type": "stream",
     "text": [
      "{'Name': ['Bitutu', 'Tichi'], 'English': [90, 98], 'English_grade': ['A', 'A'], 'Kiswahili': [90, 97], 'Kiswahili_grade': ['A', 'A'], 'Maths': [97, 95], 'Maths_grade': ['A', 'A'], 'Science': [96, 95], 'Science_grade': ['A', 'A'], 'GHC': [95, 90], 'GHC_grade': ['A', 'A'], 'total': [468, 475]}\n"
     ]
    }
   ],
   "source": [
    "print(Class_performance)"
   ]
  },
  {
   "cell_type": "code",
   "execution_count": 70,
   "id": "f2f44c5d-8824-421b-a481-706944afeabb",
   "metadata": {
    "tags": []
   },
   "outputs": [
    {
     "data": {
      "text/html": [
       "<div>\n",
       "<style scoped>\n",
       "    .dataframe tbody tr th:only-of-type {\n",
       "        vertical-align: middle;\n",
       "    }\n",
       "\n",
       "    .dataframe tbody tr th {\n",
       "        vertical-align: top;\n",
       "    }\n",
       "\n",
       "    .dataframe thead th {\n",
       "        text-align: right;\n",
       "    }\n",
       "</style>\n",
       "<table border=\"1\" class=\"dataframe\">\n",
       "  <thead>\n",
       "    <tr style=\"text-align: right;\">\n",
       "      <th></th>\n",
       "      <th>Name</th>\n",
       "      <th>English</th>\n",
       "      <th>English_grade</th>\n",
       "      <th>Kiswahili</th>\n",
       "      <th>Kiswahili_grade</th>\n",
       "      <th>Maths</th>\n",
       "      <th>Maths_grade</th>\n",
       "      <th>Science</th>\n",
       "      <th>Science_grade</th>\n",
       "      <th>GHC</th>\n",
       "      <th>GHC_grade</th>\n",
       "      <th>total</th>\n",
       "    </tr>\n",
       "  </thead>\n",
       "  <tbody>\n",
       "    <tr>\n",
       "      <th>0</th>\n",
       "      <td>Bitutu</td>\n",
       "      <td>90</td>\n",
       "      <td>A</td>\n",
       "      <td>90</td>\n",
       "      <td>A</td>\n",
       "      <td>97</td>\n",
       "      <td>A</td>\n",
       "      <td>96</td>\n",
       "      <td>A</td>\n",
       "      <td>95</td>\n",
       "      <td>A</td>\n",
       "      <td>468</td>\n",
       "    </tr>\n",
       "    <tr>\n",
       "      <th>1</th>\n",
       "      <td>Tichi</td>\n",
       "      <td>98</td>\n",
       "      <td>A</td>\n",
       "      <td>97</td>\n",
       "      <td>A</td>\n",
       "      <td>95</td>\n",
       "      <td>A</td>\n",
       "      <td>95</td>\n",
       "      <td>A</td>\n",
       "      <td>90</td>\n",
       "      <td>A</td>\n",
       "      <td>475</td>\n",
       "    </tr>\n",
       "  </tbody>\n",
       "</table>\n",
       "</div>"
      ],
      "text/plain": [
       "     Name  English English_grade  Kiswahili Kiswahili_grade  Maths  \\\n",
       "0  Bitutu       90             A         90               A     97   \n",
       "1   Tichi       98             A         97               A     95   \n",
       "\n",
       "  Maths_grade  Science Science_grade  GHC GHC_grade  total  \n",
       "0           A       96             A   95         A    468  \n",
       "1           A       95             A   90         A    475  "
      ]
     },
     "execution_count": 70,
     "metadata": {},
     "output_type": "execute_result"
    }
   ],
   "source": [
    "import pandas as pd\n",
    "\n",
    "pd.DataFrame(Class_performance)"
   ]
  },
  {
   "cell_type": "code",
   "execution_count": 56,
   "id": "e70d9d32-ab26-4ea2-bbf7-31e3ba20954c",
   "metadata": {
    "tags": []
   },
   "outputs": [
    {
     "name": "stdout",
     "output_type": "stream",
     "text": [
      "{'Name': 'Julia Lumunba', 'English': 90}\n"
     ]
    }
   ],
   "source": [
    "print(class_performance)"
   ]
  },
  {
   "cell_type": "code",
   "execution_count": 52,
   "id": "b14d99e8-cb4c-47c5-9bd0-045ab1d77ce7",
   "metadata": {
    "tags": []
   },
   "outputs": [
    {
     "name": "stdout",
     "output_type": "stream",
     "text": [
      "{'name': 'Lumumba'}\n"
     ]
    }
   ],
   "source": [
    "# Adding a key value pairs in the dictionary\n",
    "class_performance={}\n",
    "class_performance[\"name\"]= \"Lumumba\"\n",
    "print (class_performance)"
   ]
  },
  {
   "cell_type": "code",
   "execution_count": null,
   "id": "c5405c03-2312-40b3-9822-c926b164d622",
   "metadata": {},
   "outputs": [],
   "source": []
  }
 ],
 "metadata": {
  "kernelspec": {
   "display_name": "Python 3 (ipykernel)",
   "language": "python",
   "name": "python3"
  },
  "language_info": {
   "codemirror_mode": {
    "name": "ipython",
    "version": 3
   },
   "file_extension": ".py",
   "mimetype": "text/x-python",
   "name": "python",
   "nbconvert_exporter": "python",
   "pygments_lexer": "ipython3",
   "version": "3.11.3"
  }
 },
 "nbformat": 4,
 "nbformat_minor": 5
}
