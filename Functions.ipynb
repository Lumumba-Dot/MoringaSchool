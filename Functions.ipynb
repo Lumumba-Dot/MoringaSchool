{
 "cells": [
  {
   "cell_type": "markdown",
   "id": "c448bf69-5d2c-49b6-9403-427d472dbfe1",
   "metadata": {},
   "source": [
    "**Functions**"
   ]
  },
  {
   "cell_type": "markdown",
   "id": "34761293-721e-48c5-9706-47a1d497b260",
   "metadata": {},
   "source": [
    "* A named block of code that are designed to do one specific job.\n",
    "* When you want to perform a particular task that you have defined in a function, you *call* the function responsible for it.\n",
    "* If you need to perform that task multiple times across your program, you dont need type the code all over again and again; you just call the function dedicated to handling that task.\n",
    "* Using functions makes your program easier to write, read, test and fix.\n"
   ]
  },
  {
   "cell_type": "code",
   "execution_count": 11,
   "id": "6e071bd3-2a58-4736-97cf-2f826419b581",
   "metadata": {
    "tags": []
   },
   "outputs": [],
   "source": [
    "# zen of python\n",
    "import this"
   ]
  },
  {
   "cell_type": "markdown",
   "id": "50806e4b-4306-445e-8327-f8caf2b30f43",
   "metadata": {},
   "source": [
    "## Types of Functions \n",
    "1. `User-defined functions` - Functions that we create/define ourselves in our program and then call them wherever we want.\n",
    "2. `Built-in Functions` - Functions already defined in Python Libraries and we call them directly."
   ]
  },
  {
   "cell_type": "markdown",
   "id": "05734a3c-41c7-4768-8170-816ba8b46c58",
   "metadata": {
    "tags": []
   },
   "source": [
    "**Defining a Function**"
   ]
  },
  {
   "cell_type": "code",
   "execution_count": 19,
   "id": "d1dc9921-3939-4d93-8735-20286e2215fc",
   "metadata": {
    "tags": []
   },
   "outputs": [
    {
     "name": "stdout",
     "output_type": "stream",
     "text": [
      "Hello\n"
     ]
    }
   ],
   "source": [
    "# exampe\n",
    "def greet_user():\n",
    "    \"\"\"Display a simple greeting\"\"\"\n",
    "    print (\"Hello\")\n",
    "greet_user()"
   ]
  },
  {
   "cell_type": "markdown",
   "id": "fcda1445-3d92-42e2-8ec7-0c5bf686b8cf",
   "metadata": {
    "tags": []
   },
   "source": [
    "def greet_user():` \n",
    "* Using the keyword `def` to inform python that you are defining a function, refered to as *function definition*. \n",
    "* Function definition tells python the name of the function, in the example above, **greet_user**.\n",
    "* It also informs python, if applicable, what kind of information the function needs to perform it's task/job, passed into to function using the `()`. In this case, the function need no information to perform its tasks hence the empty brackets.\n",
    "* Any indented lines\n",
    "`\"\"\"Display a simple greeting\"\"\"`\n",
    "\n",
    "* Comment called *docstring*, that describes what the function does.\n",
    "* If a single short one line statement, we can use a `#`.\n",
    "\n",
    "`print(\"Hello World!\")`\n",
    "* Function body line(s) indented inside the function.\n",
    "* Contains set of instructions on the code to be executed.\n"
   ]
  },
  {
   "cell_type": "markdown",
   "id": "abcd13c6-88af-47b5-a2e1-9a56ea7a5d64",
   "metadata": {
    "tags": []
   },
   "source": [
    "# comment \n",
    "\n",
    "\"\"\"Comment\"\"\"\n",
    "\n",
    "*This is a multiple line comment\n",
    "*The tripple double quotes \n",
    "*Used to create multiple line comments\n",
    "\n",
    "\"\"\"\n",
    "This is a multiple line comment\n",
    "The tripple double quotes \n",
    "Used to create multiple line comments\n",
    "\"\"\""
   ]
  },
  {
   "cell_type": "markdown",
   "id": "87d259a9-c4d6-4f7a-9277-a1bec977fdca",
   "metadata": {},
   "source": [
    "`greet_user()`\n",
    "* When you want to use a function, you call it. \n",
    "* A **function call** tells python to execute the indented code in the function body.\n",
    "* To call a function, write the function name, in our example, `greet_user`, followed by any necessary information in the `()`."
   ]
  },
  {
   "cell_type": "code",
   "execution_count": 27,
   "id": "f5d30795-3da6-45f8-9242-cd49065b8735",
   "metadata": {
    "tags": []
   },
   "outputs": [],
   "source": [
    "# Example 2\n",
    "def add_numbers():\n",
    "    a= 2\n",
    "    b= 5\n",
    "    sum= a+b\n",
    "    print(sum)\n",
    "    add_numbers"
   ]
  },
  {
   "cell_type": "code",
   "execution_count": 21,
   "id": "7e592e7f-6c39-44dd-817b-b9b1c468bd52",
   "metadata": {
    "tags": []
   },
   "outputs": [],
   "source": [
    "## Passing information to a function\n"
   ]
  },
  {
   "cell_type": "code",
   "execution_count": 26,
   "id": "e4cc3b29-fe23-42fd-b2cd-2530c00cc807",
   "metadata": {
    "tags": []
   },
   "outputs": [
    {
     "name": "stdout",
     "output_type": "stream",
     "text": [
      "Hello Antony!\n"
     ]
    }
   ],
   "source": [
    "def greet_user(username):\n",
    "    \"\"\"Display a simple greeting\"\"\"\n",
    "    print(f\"Hello {username}!\")\n",
    "greet_user('Antony')"
   ]
  },
  {
   "cell_type": "markdown",
   "id": "4ebe290e-d745-413f-869b-230bce752777",
   "metadata": {},
   "source": [
    "* By adding `username` in our function definition, we are allowing the function to accept any value for *username*.\n",
    "* Expectations: - provide a value for a *username* each time call it.\n"
   ]
  },
  {
   "cell_type": "code",
   "execution_count": 28,
   "id": "f3b95977-09cf-4681-9943-0ddbcb7adb08",
   "metadata": {
    "tags": []
   },
   "outputs": [
    {
     "name": "stdout",
     "output_type": "stream",
     "text": [
      "Hello Melly!\n"
     ]
    }
   ],
   "source": [
    "#Second function call\n",
    "greet_user('Melly') # Changed username value"
   ]
  },
  {
   "cell_type": "markdown",
   "id": "13b2c302-98ca-4a58-b1b5-20cca4fa385c",
   "metadata": {},
   "source": [
    "* `parameters` - in the example greet_user(username), *username* is the parameter.\n",
    "A piece of information the function needs to do its job/task.\n",
    "* `arguments` - the value *Antonny* and *Melly* are arguments.\n",
    "A piece of information that's passed from a function call to a function."
   ]
  },
  {
   "cell_type": "code",
   "execution_count": 31,
   "id": "e8c97e82-7297-4000-8405-bdec27d94970",
   "metadata": {
    "tags": []
   },
   "outputs": [
    {
     "ename": "TypeError",
     "evalue": "greet_user() missing 1 required positional argument: 'username'",
     "output_type": "error",
     "traceback": [
      "\u001b[1;31m---------------------------------------------------------------------------\u001b[0m",
      "\u001b[1;31mTypeError\u001b[0m                                 Traceback (most recent call last)",
      "Cell \u001b[1;32mIn[31], line 2\u001b[0m\n\u001b[0;32m      1\u001b[0m \u001b[38;5;66;03m#third fucntion call\u001b[39;00m\n\u001b[1;32m----> 2\u001b[0m greet_user()\n",
      "\u001b[1;31mTypeError\u001b[0m: greet_user() missing 1 required positional argument: 'username'"
     ]
    }
   ],
   "source": [
    "#third fucntion call\n",
    "greet_user()"
   ]
  },
  {
   "cell_type": "markdown",
   "id": "fad09532-fac1-49f7-905b-b11a35d4e4f5",
   "metadata": {},
   "source": [
    "* We must pass arguments during function calls to avoid errors."
   ]
  },
  {
   "cell_type": "code",
   "execution_count": 37,
   "id": "913b773c-2cc2-4a83-bfcb-bdb4f627a194",
   "metadata": {
    "tags": []
   },
   "outputs": [
    {
     "name": "stdout",
     "output_type": "stream",
     "text": [
      "i have a cat\n",
      "My cat's name is Missy\n"
     ]
    }
   ],
   "source": [
    "def describe_pet(animal_type, pet_name):\n",
    "    \"\"\"Display information about a pet \"\"\"\n",
    "    print(f\"i have a {animal_type}\")\n",
    "    print(f\"My {animal_type}'s name is {pet_name}\")\n",
    "\n",
    "describe_pet(\"cat\",\"Missy\")"
   ]
  },
  {
   "cell_type": "markdown",
   "id": "8241b5b2-2021-47f5-b8d5-9c8be2c4dc46",
   "metadata": {},
   "source": [
    "* When you call a function, Python must match each argument in the function call with a parameter in the function definition."
   ]
  },
  {
   "cell_type": "code",
   "execution_count": 38,
   "id": "14e81d52-b36d-4c7a-9240-febb2253b8ad",
   "metadata": {
    "tags": []
   },
   "outputs": [
    {
     "name": "stdout",
     "output_type": "stream",
     "text": [
      "i have a Scooby\n",
      "My Scooby's name is Dog\n"
     ]
    }
   ],
   "source": [
    "# the arguments match the order of the parameter\n",
    "describe_pet(\"Scooby\",\"Dog\") # This wrong"
   ]
  },
  {
   "cell_type": "code",
   "execution_count": 41,
   "id": "10e9f9d2-4e0e-4e6e-9aa2-4e06d2be1841",
   "metadata": {
    "tags": []
   },
   "outputs": [
    {
     "name": "stdout",
     "output_type": "stream",
     "text": [
      "i have a Dog\n",
      "My Dog's name is Scooby\n"
     ]
    }
   ],
   "source": [
    "#alternatively use keyword arguments\n",
    "describe_pet(pet_name=\"Scooby\", animal_type= \"Dog\")"
   ]
  },
  {
   "cell_type": "code",
   "execution_count": 42,
   "id": "5670863e-c0f9-4e7c-a9ed-99aea409f16f",
   "metadata": {
    "tags": []
   },
   "outputs": [
    {
     "name": "stdout",
     "output_type": "stream",
     "text": [
      "i have a Missy\n",
      "My Missy's name is cat\n"
     ]
    }
   ],
   "source": [
    "def describe_pet(pet_name, animal_type =\"Dog\"):\n",
    "    \"\"\"Display information about a pet \"\"\"\n",
    "    print(f\"i have a {animal_type}\")\n",
    "    print(f\"My {animal_type}'s name is {pet_name}\")\n",
    "\n",
    "describe_pet(\"cat\",\"Missy\")"
   ]
  },
  {
   "cell_type": "markdown",
   "id": "c2a70abc-357c-4f75-bc26-eeaea6a565d1",
   "metadata": {},
   "source": [
    "* Defining a **default values** for the parameter `animal_type` and setting it as `Dog`.\n"
   ]
  },
  {
   "cell_type": "code",
   "execution_count": 44,
   "id": "2ad9c314-e391-4358-a1b2-a9e9bd94a495",
   "metadata": {
    "tags": []
   },
   "outputs": [
    {
     "name": "stdout",
     "output_type": "stream",
     "text": [
      "i have a Dog\n",
      "My Dog's name is Missy\n"
     ]
    }
   ],
   "source": [
    "describe_pet('Missy')"
   ]
  },
  {
   "cell_type": "code",
   "execution_count": 46,
   "id": "b5953e20-bacd-431c-b662-4a2b808b595e",
   "metadata": {
    "tags": []
   },
   "outputs": [
    {
     "name": "stdout",
     "output_type": "stream",
     "text": [
      "i have a Cat\n",
      "My Cat's name is Scooby\n"
     ]
    }
   ],
   "source": [
    "describe_pet('Scooby','Cat')"
   ]
  },
  {
   "cell_type": "markdown",
   "id": "70a2243d-1a6e-4e81-ad4b-63b5a889114e",
   "metadata": {},
   "source": [
    "If an argument is not provided in the function call, python uses the default value ie `Dog` in the example above.\n",
    "If an argument for a parameter is provided in the function call, python uses the argument value provided."
   ]
  },
  {
   "cell_type": "markdown",
   "id": "daa9bace-568f-4618-b17f-7357ef6db978",
   "metadata": {},
   "source": [
    "**Return Values**"
   ]
  },
  {
   "cell_type": "code",
   "execution_count": null,
   "id": "cb45e7e9-7fde-4efc-9430-e4069255c562",
   "metadata": {},
   "outputs": [],
   "source": []
  },
  {
   "cell_type": "code",
   "execution_count": 52,
   "id": "d928dfe5-674f-448a-a612-ee928444a8d3",
   "metadata": {
    "tags": []
   },
   "outputs": [],
   "source": [
    "def add_numbers(a,b):\n",
    "    \"\"\"sum two numbers\"\"\"\n",
    "    sum= a + b\n",
    "    output = f\"{a} +{b}={sum}\"\n",
    "add_numbers(9,6) "
   ]
  },
  {
   "cell_type": "markdown",
   "id": "4af0de86-7739-4926-b468-e835f8624741",
   "metadata": {},
   "source": [
    "*Functions process data and then return a values called return values "
   ]
  },
  {
   "cell_type": "code",
   "execution_count": 49,
   "id": "00bd0a4c-a6dd-4c1f-aae4-c5ffeb15f204",
   "metadata": {
    "tags": []
   },
   "outputs": [],
   "source": [
    "def add_numbers(a,b):\n",
    "    \"\"\"sum two numbers\"\"\"\n",
    "    sum= a + b\n",
    "    output = f\"{a} +{b}={sum}\"\n",
    "add_numbers(9,6) "
   ]
  },
  {
   "cell_type": "code",
   "execution_count": 50,
   "id": "c592c5ad-b2b0-4639-8f9c-80f97c92831b",
   "metadata": {
    "tags": []
   },
   "outputs": [
    {
     "data": {
      "text/plain": [
       "'9 +6=15'"
      ]
     },
     "execution_count": 50,
     "metadata": {},
     "output_type": "execute_result"
    }
   ],
   "source": [
    "def add_numbers(a,b):\n",
    "    \"\"\"sum two numbers\"\"\"\n",
    "    sum= a + b\n",
    "    output = f\"{a} +{b}={sum}\"\n",
    "    return output\n",
    "add_numbers(9,6)"
   ]
  },
  {
   "cell_type": "code",
   "execution_count": 53,
   "id": "b209be5d-6c6c-479e-9faa-f6df503e1ff3",
   "metadata": {
    "tags": []
   },
   "outputs": [
    {
     "data": {
      "text/plain": [
       "15"
      ]
     },
     "execution_count": 53,
     "metadata": {},
     "output_type": "execute_result"
    }
   ],
   "source": [
    "def add_numbers(a,b):\n",
    "    \"\"\"sum two numbers\"\"\"\n",
    "    sum= a + bg\n",
    "    return sum\n",
    "add_numbers(9,6)"
   ]
  },
  {
   "cell_type": "code",
   "execution_count": 54,
   "id": "c64027d4-05e7-46d8-9d21-aeedbdfbf5ef",
   "metadata": {
    "tags": []
   },
   "outputs": [],
   "source": [
    "def send_greeting(user):\n",
    "    \"\"\"wlecome users to wedding\"\"\"\n",
    "    message = f\"welcome(user)to Nyambane and Ida's wedding!\"\n",
    "send_greeting(\"Yussuf\")"
   ]
  },
  {
   "cell_type": "code",
   "execution_count": 58,
   "id": "4c2c36b3-3588-436b-812a-4836c656fec7",
   "metadata": {
    "tags": []
   },
   "outputs": [
    {
     "data": {
      "text/plain": [
       "\"welcome Eugene to Nyambane and Ida's wedding!\""
      ]
     },
     "execution_count": 58,
     "metadata": {},
     "output_type": "execute_result"
    }
   ],
   "source": [
    "def send_greeting(user):\n",
    "    \"\"\"wlecome users to wedding\"\"\"\n",
    "    message = f\"welcome {user} to Nyambane and Ida's wedding!\"\n",
    "    \n",
    "    return message \n",
    "\n",
    "send_greeting(\"Eugene\")\n"
   ]
  },
  {
   "cell_type": "markdown",
   "id": "53794fc4-2dcc-49f6-8011-c99a1be23d59",
   "metadata": {},
   "source": [
    "* The `return` statement takes a value or set of values from inside a function and send it back to the line that called the function."
   ]
  },
  {
   "cell_type": "code",
   "execution_count": 59,
   "id": "c260b19b-69d5-4e94-9b18-aa439bf734da",
   "metadata": {
    "tags": []
   },
   "outputs": [
    {
     "name": "stdout",
     "output_type": "stream",
     "text": [
      "welcome Kocheli to Nyambane and Ida's wedding!\n"
     ]
    }
   ],
   "source": [
    "welcome_message = send_greeting(\"Kocheli\")\n",
    "print(welcome_message)"
   ]
  },
  {
   "cell_type": "code",
   "execution_count": 3,
   "id": "c58fb8b1-849a-4b09-9b15-59c92f00dfa3",
   "metadata": {},
   "outputs": [
    {
     "ename": "SyntaxError",
     "evalue": "invalid syntax (1253387345.py, line 1)",
     "output_type": "error",
     "traceback": [
      "\u001b[1;36m  Cell \u001b[1;32mIn[3], line 1\u001b[1;36m\u001b[0m\n\u001b[1;33m    calculator (a, b, operator):\u001b[0m\n\u001b[1;37m                               ^\u001b[0m\n\u001b[1;31mSyntaxError\u001b[0m\u001b[1;31m:\u001b[0m invalid syntax\n"
     ]
    }
   ],
   "source": [
    "calculator (a, b, operator):\n",
    "    if (operator == \"+\"):\n",
    "        sum = a + b\n",
    "        sum_out = f\"{a} + {b} = {sum}\"\n",
    "        return sum_out\n",
    "    elif (operator == \"-\"):\n",
    "                    diff = a-b\n",
    "                    diff_out = f\"{a} -{b} ={diff}\"\n",
    "                    return diff_out"
   ]
  },
  {
   "cell_type": "code",
   "execution_count": 7,
   "id": "61a2db98-85a9-426a-946d-ea70031aa088",
   "metadata": {
    "tags": []
   },
   "outputs": [
    {
     "data": {
      "text/plain": [
       "(10, 4, 21)"
      ]
     },
     "execution_count": 7,
     "metadata": {},
     "output_type": "execute_result"
    }
   ],
   "source": [
    "def alt_calculator (a, b):\n",
    "    \"\"\"Alternative Calculator\"\"\"\n",
    "    sum = a+b\n",
    "    diff = a-b\n",
    "    multiplication = a * b\n",
    "    #Return  a set of values \n",
    "    return sum, diff, multiplication\n",
    "alt_calculator(7,3)"
   ]
  },
  {
   "cell_type": "code",
   "execution_count": 11,
   "id": "12e30bce-e022-4989-a190-0b3068a6c6b7",
   "metadata": {
    "tags": []
   },
   "outputs": [
    {
     "name": "stdout",
     "output_type": "stream",
     "text": [
      "<class 'tuple'>\n",
      "4\n",
      "21\n"
     ]
    }
   ],
   "source": [
    "#Assigned variable to our function call\n",
    "alt_calculator_output = alt_calculator(7,3)\n",
    "print(type(alt_calculator_output))\n",
    "\n",
    "#Accessing individual values in the return set of values \n",
    "#Using the index\n",
    "difference = alt_calculator_output[1]\n",
    "print (difference)\n",
    "\n",
    "product = alt_calculator_output[-1]\n",
    "print (product)"
   ]
  },
  {
   "cell_type": "code",
   "execution_count": 20,
   "id": "744ecf34-d22e-465c-a088-19f40c60dbc2",
   "metadata": {
    "tags": []
   },
   "outputs": [
    {
     "ename": "IndentationError",
     "evalue": "expected an indented block after function definition on line 1 (2824961411.py, line 3)",
     "output_type": "error",
     "traceback": [
      "\u001b[1;36m  Cell \u001b[1;32mIn[20], line 3\u001b[1;36m\u001b[0m\n\u001b[1;33m    squared_numbers =[]\u001b[0m\n\u001b[1;37m    ^\u001b[0m\n\u001b[1;31mIndentationError\u001b[0m\u001b[1;31m:\u001b[0m expected an indented block after function definition on line 1\n"
     ]
    }
   ],
   "source": [
    "def sum_squares(numbers):\n",
    "squared_numbers =[]\n",
    "    for num in numbers:\n",
    "        squared_value = num**2\n",
    "        squared_numbers.append(squared_value)\n",
    "        squares_sum = sum(squared_numbers)\n",
    "    return squared_numbers"
   ]
  },
  {
   "cell_type": "code",
   "execution_count": 17,
   "id": "077e1bab-9965-47c3-a620-e09bcaf57ae6",
   "metadata": {
    "tags": []
   },
   "outputs": [
    {
     "data": {
      "text/plain": [
       "[1, 4, 9]"
      ]
     },
     "execution_count": 17,
     "metadata": {},
     "output_type": "execute_result"
    }
   ],
   "source": [
    "def sum_squares(numbers):\n",
    "    \"\"\"\n",
    "    parameters:\n",
    "        numbers - list of numbers\n",
    "    return:\n",
    "        sum of squares of the list of numbers \n",
    "    \"\"\"\n",
    "    squared_numbers =[]\n",
    "    for num in numbers:\n",
    "        square = num**2\n",
    "        squared_numbers.append(square)\n",
    "    return squared_numbers\n",
    "sum_squares([1,2,3])\n",
    "        "
   ]
  },
  {
   "cell_type": "code",
   "execution_count": 18,
   "id": "a8c3e602-e95d-4d86-a14d-6d030aaffaf7",
   "metadata": {
    "tags": []
   },
   "outputs": [
    {
     "ename": "NameError",
     "evalue": "name 'numbers' is not defined",
     "output_type": "error",
     "traceback": [
      "\u001b[1;31m---------------------------------------------------------------------------\u001b[0m",
      "\u001b[1;31mNameError\u001b[0m                                 Traceback (most recent call last)",
      "Cell \u001b[1;32mIn[18], line 8\u001b[0m\n\u001b[0;32m      3\u001b[0m \u001b[38;5;250m   \u001b[39m\u001b[38;5;124;03m\"\"\"parameters:\u001b[39;00m\n\u001b[0;32m      4\u001b[0m \u001b[38;5;124;03m  numbers-list of numbers\u001b[39;00m\n\u001b[0;32m      5\u001b[0m \u001b[38;5;124;03m  return:\u001b[39;00m\n\u001b[0;32m      6\u001b[0m \u001b[38;5;124;03m  sumof squares\"\"\"\u001b[39;00m\n\u001b[0;32m      7\u001b[0m squared_numbers\u001b[38;5;241m=\u001b[39m[]\n\u001b[1;32m----> 8\u001b[0m \u001b[38;5;28;01mfor\u001b[39;00m num \u001b[38;5;129;01min\u001b[39;00m numbers:\n\u001b[0;32m      9\u001b[0m        squared_value\u001b[38;5;241m=\u001b[39mnum\u001b[38;5;241m*\u001b[39m\u001b[38;5;241m*\u001b[39m\u001b[38;5;241m2\u001b[39m\n\u001b[0;32m     10\u001b[0m        squared_numbers\u001b[38;5;241m.\u001b[39mappend(squared_value)\n",
      "\u001b[1;31mNameError\u001b[0m: name 'numbers' is not defined"
     ]
    }
   ],
   "source": [
    " #sum of squares\n",
    "def sum_squares(numbers):\n",
    "    \"\"\"parameters:\n",
    "   numbers-list of numbers\n",
    "   return:\n",
    "   sumof squares\"\"\"\n",
    "squared_numbers=[]\n",
    "for num in numbers:\n",
    "        squared_value=num**2\n",
    "        squared_numbers.append(squared_value)\n",
    "squares_sum=sum(squared_numbers)\n",
    "return squares_sum,squared_numbers"
   ]
  },
  {
   "cell_type": "markdown",
   "id": "f56bccc9-0e27-4ed0-a0ad-ee12d555f004",
   "metadata": {},
   "source": [
    "**Built-in Functions**"
   ]
  },
  {
   "cell_type": "code",
   "execution_count": 21,
   "id": "ea2f5886-d83c-4357-8ae7-bb69db86cfe7",
   "metadata": {
    "tags": []
   },
   "outputs": [
    {
     "name": "stdout",
     "output_type": "stream",
     "text": [
      "Bitutu\n"
     ]
    }
   ],
   "source": [
    "#Example \n",
    "print(\"Bitutu\")"
   ]
  },
  {
   "cell_type": "code",
   "execution_count": 22,
   "id": "577f53fa-bc41-4aa0-bcb8-35bbce9eb4cc",
   "metadata": {
    "tags": []
   },
   "outputs": [
    {
     "name": "stdin",
     "output_type": "stream",
     "text": [
      "Enter your name: \n",
      " Bitutu\n"
     ]
    }
   ],
   "source": [
    "#Input - takes in user input\n",
    "first_name= input(\"Enter your name: \\n\")"
   ]
  },
  {
   "cell_type": "code",
   "execution_count": 23,
   "id": "6b6cf5c6-0610-4a07-9ec3-02aef3c49486",
   "metadata": {
    "tags": []
   },
   "outputs": [
    {
     "name": "stdout",
     "output_type": "stream",
     "text": [
      "Bitutu\n"
     ]
    }
   ],
   "source": [
    "print(first_name)"
   ]
  },
  {
   "cell_type": "code",
   "execution_count": 24,
   "id": "f919df03-c122-4546-9b75-e32fb200dfef",
   "metadata": {
    "tags": []
   },
   "outputs": [
    {
     "name": "stdin",
     "output_type": "stream",
     "text": [
      "Enter a number:\n",
      " \n"
     ]
    },
    {
     "data": {
      "text/plain": [
       "str"
      ]
     },
     "execution_count": 24,
     "metadata": {},
     "output_type": "execute_result"
    }
   ],
   "source": [
    "number = input(\"Enter a number: \\n\")\n",
    "type(number)"
   ]
  },
  {
   "cell_type": "code",
   "execution_count": 27,
   "id": "40381fd6-c858-44db-a028-2a6d1afc8a0f",
   "metadata": {
    "tags": []
   },
   "outputs": [
    {
     "name": "stdin",
     "output_type": "stream",
     "text": [
      "Enter number (0-9): \n",
      " 0721174960\n"
     ]
    },
    {
     "data": {
      "text/plain": [
       "int"
      ]
     },
     "execution_count": 27,
     "metadata": {},
     "output_type": "execute_result"
    }
   ],
   "source": [
    "type hinting- specify the expected types of variable,\n",
    "#function parameters , return values\n",
    "number_2 =int(input(\"Enter number (0-9): \\n\"))\n",
    "type(number_2)"
   ]
  },
  {
   "cell_type": "code",
   "execution_count": 28,
   "id": "3faeddb8-347f-4127-a2c1-55fc559f0bdb",
   "metadata": {
    "tags": []
   },
   "outputs": [
    {
     "name": "stdin",
     "output_type": "stream",
     "text": [
      "Enter your value: \n",
      " 2\n"
     ]
    },
    {
     "name": "stdout",
     "output_type": "stream",
     "text": [
      "Value is Even\n"
     ]
    }
   ],
   "source": [
    "value = int(input(\"Enter your value: \\n\"))\n",
    "if value % 2 == 0:\n",
    "    print(\"Value is Even\")     \n",
    "else: print(\"Value is Odd\")"
   ]
  },
  {
   "cell_type": "code",
   "execution_count": 29,
   "id": "ee07b6db-5831-4c07-9977-ed8eb7a946ef",
   "metadata": {
    "tags": []
   },
   "outputs": [
    {
     "name": "stdin",
     "output_type": "stream",
     "text": [
      "Enter your number: \n",
      " 3\n"
     ]
    },
    {
     "name": "stdout",
     "output_type": "stream",
     "text": [
      "Number is Odd number\n"
     ]
    }
   ],
   "source": [
    "number = int(input(\"Enter your number: \\n\"))\n",
    "if number % 2 == 0:\n",
    "    print(\"Number is Even number\")        \n",
    "else:print(\"Number is Odd number\")"
   ]
  },
  {
   "cell_type": "code",
   "execution_count": 30,
   "id": "24afdd3f-df4f-402d-9837-079c9172f163",
   "metadata": {
    "tags": []
   },
   "outputs": [
    {
     "name": "stdin",
     "output_type": "stream",
     "text": [
      "Enter a number:  4\n"
     ]
    },
    {
     "name": "stdout",
     "output_type": "stream",
     "text": [
      "The number is Even.\n"
     ]
    }
   ],
   "source": [
    "def even_or_odd(number):\n",
    "    if number % 2 == 0:\n",
    "        return \"Even\"\n",
    "    else:return \"Odd\"\n",
    "num = int(input(\"Enter a number: \"))\n",
    "result = even_or_odd(num)\n",
    "print(f\"The number is {result}.\")"
   ]
  },
  {
   "cell_type": "code",
   "execution_count": 32,
   "id": "5e79ead9-a7d8-47c2-831d-e59f0d0c05c0",
   "metadata": {
    "tags": []
   },
   "outputs": [
    {
     "ename": "SyntaxError",
     "evalue": "invalid character '“' (U+201C) (1520464329.py, line 2)",
     "output_type": "error",
     "traceback": [
      "\u001b[1;36m  Cell \u001b[1;32mIn[32], line 2\u001b[1;36m\u001b[0m\n\u001b[1;33m    num = int(input(f“Enter a number :”))\u001b[0m\n\u001b[1;37m                     ^\u001b[0m\n\u001b[1;31mSyntaxError\u001b[0m\u001b[1;31m:\u001b[0m invalid character '“' (U+201C)\n"
     ]
    }
   ],
   "source": [
    "def print_odd() -> int:\n",
    "    num = int(input(f“Enter a number :”))\n",
    "    if num % 2:\n",
    "        return “Even”\n",
    "    else:return “Odd”"
   ]
  },
  {
   "cell_type": "code",
   "execution_count": 36,
   "id": "1cb99910-c199-4dd0-a34c-9fa294378297",
   "metadata": {
    "tags": []
   },
   "outputs": [
    {
     "ename": "SyntaxError",
     "evalue": "expected 'except' or 'finally' block (286437547.py, line 3)",
     "output_type": "error",
     "traceback": [
      "\u001b[1;36m  Cell \u001b[1;32mIn[36], line 3\u001b[1;36m\u001b[0m\n\u001b[1;33m    if num % 2 == 0:\u001b[0m\n\u001b[1;37m    ^\u001b[0m\n\u001b[1;31mSyntaxError\u001b[0m\u001b[1;31m:\u001b[0m expected 'except' or 'finally' block\n"
     ]
    }
   ],
   "source": [
    "def check_even_odd():\n",
    "    try:num = int(input(\"Enter a number: \"))\n",
    "    if num % 2 == 0:\n",
    "        print(f\"{num} is even.\")\n",
    "    else:\n",
    "        print(f\"{num} is odd.\")\n",
    "    except ValueError:\n",
    "        print(\"Invalid input. Please enter a valid number.\")\n",
    "\n",
    "# Call the function\n",
    "check_even_odd()"
   ]
  },
  {
   "cell_type": "code",
   "execution_count": null,
   "id": "c997d256-bdc1-415f-8682-40ffe58c0345",
   "metadata": {},
   "outputs": [],
   "source": []
  }
 ],
 "metadata": {
  "kernelspec": {
   "display_name": "Python 3 (ipykernel)",
   "language": "python",
   "name": "python3"
  },
  "language_info": {
   "codemirror_mode": {
    "name": "ipython",
    "version": 3
   },
   "file_extension": ".py",
   "mimetype": "text/x-python",
   "name": "python",
   "nbconvert_exporter": "python",
   "pygments_lexer": "ipython3",
   "version": "3.11.3"
  }
 },
 "nbformat": 4,
 "nbformat_minor": 5
}
