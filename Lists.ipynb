{
 "cells": [
  {
   "cell_type": "code",
   "execution_count": null,
   "id": "f7d201c3-184e-4f16-b334-3369e89226c1",
   "metadata": {},
   "outputs": [],
   "source": [
    "noise_makers= [\"Antony\", \"Lumumba\",\"John\"]"
   ]
  },
  {
   "cell_type": "code",
   "execution_count": 6,
   "id": "f45f1094-7afd-46f1-b253-baa81c5079f7",
   "metadata": {
    "tags": []
   },
   "outputs": [
    {
     "name": "stdout",
     "output_type": "stream",
     "text": [
      "['Mango', ['Paw Paw', 'Oranges'], 'Guava']\n",
      "['Paw Paw', 'Oranges']\n",
      "ORANGES\n"
     ]
    }
   ],
   "source": [
    "#Further\n",
    "Fruits =[\"Mango\",[\"Paw Paw\",\"Oranges\"],\"Guava\"]\n",
    "print(Fruits)\n",
    "print(Fruits[1])\n",
    "print(Fruits[1][1].upper())"
   ]
  },
  {
   "cell_type": "code",
   "execution_count": 12,
   "id": "bbc86c18-0a8e-47d6-965f-16349a1159db",
   "metadata": {
    "tags": []
   },
   "outputs": [],
   "source": [
    "noise_makers= [\"Antony\", \"Lumumba\",\"John\"]"
   ]
  },
  {
   "cell_type": "code",
   "execution_count": 13,
   "id": "177d09f3-a7fc-41e4-9ffa-3477861bdd54",
   "metadata": {
    "tags": []
   },
   "outputs": [
    {
     "name": "stdout",
     "output_type": "stream",
     "text": [
      "Present\n"
     ]
    }
   ],
   "source": [
    "#Checking items in list\n",
    "if\"Lumumba\" in noise_makers:\n",
    "    print(\"Present\")"
   ]
  },
  {
   "cell_type": "code",
   "execution_count": 20,
   "id": "41b245b7-a112-40b0-a48b-4ce427b6c515",
   "metadata": {
    "tags": []
   },
   "outputs": [
    {
     "name": "stdout",
     "output_type": "stream",
     "text": [
      "Present\n"
     ]
    }
   ],
   "source": [
    "#adding items not in list\n",
    "if \"Solomon\" in noise_makers:\n",
    "    print(\"Present\")\n",
    "\n",
    "else:\n",
    "    noise_makers.append(\"Solomon\")"
   ]
  },
  {
   "cell_type": "code",
   "execution_count": 21,
   "id": "f9e614aa-f3eb-41fb-b5e2-4de2fe486e3d",
   "metadata": {
    "tags": []
   },
   "outputs": [
    {
     "name": "stdout",
     "output_type": "stream",
     "text": [
      "['Antony', 'Lumumba', 'John', 'Solomon']\n"
     ]
    }
   ],
   "source": [
    "print(noise_makers)"
   ]
  },
  {
   "cell_type": "code",
   "execution_count": 23,
   "id": "e5b10090-d7ed-4a14-aa0a-bb79b3f64a20",
   "metadata": {
    "tags": []
   },
   "outputs": [
    {
     "name": "stdout",
     "output_type": "stream",
     "text": [
      "Present\n"
     ]
    }
   ],
   "source": [
    "if \"Japhet\" in noise_makers:\n",
    "    print(\"Present\")\n",
    "else:\n",
    "    noise_makers.append(\"Japhet\")"
   ]
  },
  {
   "cell_type": "code",
   "execution_count": 24,
   "id": "9d35d520-7920-461f-91c4-10ea59a0465a",
   "metadata": {
    "tags": []
   },
   "outputs": [],
   "source": [
    "if \"Don\" in noise_makers:\n",
    "    print(\"Present\")\n",
    "    \n",
    "else:\n",
    "    noise_makers.insert(1,\"Don\")"
   ]
  },
  {
   "cell_type": "code",
   "execution_count": 25,
   "id": "98d6ee61-9e83-4b45-bee0-adcb9385adf1",
   "metadata": {
    "tags": []
   },
   "outputs": [
    {
     "name": "stdout",
     "output_type": "stream",
     "text": [
      "['Antony', 'Don', 'Lumumba', 'John', 'Solomon', 'Japhet']\n"
     ]
    }
   ],
   "source": [
    "print(noise_makers)"
   ]
  },
  {
   "cell_type": "code",
   "execution_count": 30,
   "id": "40c09fe2-b453-49f6-b458-66afc88ba2c3",
   "metadata": {
    "tags": []
   },
   "outputs": [
    {
     "name": "stdout",
     "output_type": "stream",
     "text": [
      "List Corrupted\n"
     ]
    }
   ],
   "source": [
    "#Absent (If item not in the list)\n",
    "if \"Julia\" not in noise_makers:\n",
    "    print(\"List Corrupted\")\n",
    "else:\n",
    "    noise_makers.insert(3,\"Julia\")"
   ]
  },
  {
   "cell_type": "code",
   "execution_count": 27,
   "id": "452a391d-8d22-4192-b6e2-2c5177344f08",
   "metadata": {
    "tags": []
   },
   "outputs": [],
   "source": [
    "if \"Eugene\" in noise_makers:\n",
    "    print(\"List Corrupted\")\n",
    "else:\n",
    "    noise_makers.insert(0,\"Eugene\")"
   ]
  },
  {
   "cell_type": "code",
   "execution_count": 28,
   "id": "2b9fc99c-9a13-4580-a61e-fe1538e36e5f",
   "metadata": {
    "tags": []
   },
   "outputs": [
    {
     "name": "stdout",
     "output_type": "stream",
     "text": [
      "['Eugene', 'Antony', 'Don', 'Lumumba', 'John', 'Solomon', 'Japhet']\n"
     ]
    }
   ],
   "source": [
    "print(noise_makers)"
   ]
  },
  {
   "cell_type": "code",
   "execution_count": 31,
   "id": "c5505122-f9f4-4173-b399-89ce5474cbb9",
   "metadata": {
    "tags": []
   },
   "outputs": [
    {
     "name": "stdout",
     "output_type": "stream",
     "text": [
      "['Eugene', 'Antony', 'Don', 'Lumumba', 'John', 'Solomon', 'Japhet']\n"
     ]
    }
   ],
   "source": [
    "print(noise_makers)"
   ]
  },
  {
   "cell_type": "code",
   "execution_count": 32,
   "id": "84c516ee-4e8c-4387-8a45-6174257f6e78",
   "metadata": {
    "tags": []
   },
   "outputs": [
    {
     "name": "stdout",
     "output_type": "stream",
     "text": [
      "['Julia', 'Eugene', 'Antony', 'Don', 'Lumumba', 'John', 'Solomon', 'Japhet']\n"
     ]
    }
   ],
   "source": [
    "#Adding an item\n",
    "noise_makers.insert(0,\"Julia\")\n",
    "print(noise_makers)"
   ]
  },
  {
   "cell_type": "code",
   "execution_count": 33,
   "id": "0db315a5-4937-4551-a71a-8a1c2fe89f64",
   "metadata": {
    "tags": []
   },
   "outputs": [
    {
     "data": {
      "text/plain": [
       "8"
      ]
     },
     "execution_count": 33,
     "metadata": {},
     "output_type": "execute_result"
    }
   ],
   "source": [
    "#Functions\n",
    "#Size of a list\n",
    "len(noise_makers)"
   ]
  },
  {
   "cell_type": "code",
   "execution_count": null,
   "id": "baedfec0-e6f0-4848-a452-91d060a1f60c",
   "metadata": {},
   "outputs": [],
   "source": [
    "numbers =[12,21,25,15,80]\n",
    "#sort to organize\n",
    "print(numbers.sort"
   ]
  }
 ],
 "metadata": {
  "kernelspec": {
   "display_name": "Python 3 (ipykernel)",
   "language": "python",
   "name": "python3"
  },
  "language_info": {
   "codemirror_mode": {
    "name": "ipython",
    "version": 3
   },
   "file_extension": ".py",
   "mimetype": "text/x-python",
   "name": "python",
   "nbconvert_exporter": "python",
   "pygments_lexer": "ipython3",
   "version": "3.11.3"
  }
 },
 "nbformat": 4,
 "nbformat_minor": 5
}
