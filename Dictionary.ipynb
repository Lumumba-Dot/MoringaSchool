{
 "cells": [
  {
   "cell_type": "markdown",
   "id": "166d867b-7968-4273-b54e-4393359bd76e",
   "metadata": {},
   "source": [
    "# Dictioanry\n",
    "* Data type that stores data using ***Key value*** pairs.\n",
    "* Use curly brackets (***{} ***) to define dictionaries in python\n",
    "* Syntax \n",
    "```key: value"
   ]
  },
  {
   "cell_type": "code",
   "execution_count": 1,
   "id": "efd02d71-995d-44e3-adc3-88a9390837db",
   "metadata": {
    "tags": []
   },
   "outputs": [],
   "source": [
    "#example \n",
    "student= {\n",
    "    \"Name\" : \"Antony Muiko\",\n",
    "    \"Id\":1240,\n",
    "    \"Gender\" : \"Male\"\n",
    "    \n",
    "}"
   ]
  },
  {
   "cell_type": "code",
   "execution_count": 2,
   "id": "5f641ba3-2408-417c-8b2a-586a78f540be",
   "metadata": {
    "tags": []
   },
   "outputs": [
    {
     "name": "stdout",
     "output_type": "stream",
     "text": [
      "{'Name': 'Antony Muiko', 'Id': 1240, 'Gender': 'Male'}\n"
     ]
    }
   ],
   "source": [
    "print(student)"
   ]
  },
  {
   "cell_type": "code",
   "execution_count": 4,
   "id": "bd384ce2-be2b-4982-9f92-06b17e50e861",
   "metadata": {
    "tags": []
   },
   "outputs": [],
   "source": [
    "student= {\n",
    "    \"Gender\" : \"Male\",\n",
    "    \"Name\" : \"Antony Muiko\",\n",
    "    \"Id\":1240\n",
    "}\n",
    "    "
   ]
  },
  {
   "cell_type": "code",
   "execution_count": 5,
   "id": "829795b0-cf86-4d63-80df-77acaaab02a4",
   "metadata": {
    "tags": []
   },
   "outputs": [
    {
     "name": "stdout",
     "output_type": "stream",
     "text": [
      "{'Gender': 'Male', 'Name': 'Antony Muiko', 'Id': 1240}\n"
     ]
    }
   ],
   "source": [
    "print(student)"
   ]
  },
  {
   "cell_type": "code",
   "execution_count": 8,
   "id": "e71c6742-1732-456e-9c56-709a49ca9d65",
   "metadata": {
    "tags": []
   },
   "outputs": [
    {
     "name": "stdout",
     "output_type": "stream",
     "text": [
      "{'sky': ['Nyambane', 'Eugene', 'Yussuf'], 'friends of sky': ['Martin', 'Lumumba', 'Chemu'], 'Kitchen Cabinet': ['Maggy', 'Eva', 'Lind']}\n"
     ]
    }
   ],
   "source": [
    "# Example\n",
    "office = {\n",
    "    \"sky\":[\"Nyambane\",\"Eugene\",\"Yussuf\"],\n",
    "    \"friends of sky\" :[\"Martin\", \"Lumumba\", \"Chemu\"],\n",
    "    \"Kitchen Cabinet\" :[\"Maggy\",\"Eva\",\"Lind\"],\n",
    "}\n",
    "print(office)"
   ]
  },
  {
   "cell_type": "code",
   "execution_count": 9,
   "id": "7343dfb5-d0b5-47a7-b7be-91c442b1ec55",
   "metadata": {
    "tags": []
   },
   "outputs": [
    {
     "data": {
      "text/plain": [
       "dict_keys(['sky', 'friends of sky', 'Kitchen Cabinet'])"
      ]
     },
     "execution_count": 9,
     "metadata": {},
     "output_type": "execute_result"
    }
   ],
   "source": [
    "# Keys of the dictionary\n",
    "office.keys()"
   ]
  },
  {
   "cell_type": "code",
   "execution_count": 10,
   "id": "d068a8b4-e1a6-4b2a-bace-fce0e3e7bd90",
   "metadata": {
    "tags": []
   },
   "outputs": [
    {
     "name": "stdout",
     "output_type": "stream",
     "text": [
      "['Martin', 'Lumumba', 'Chemu']\n"
     ]
    }
   ],
   "source": [
    "# Access values in a dictionary\n",
    "# syntax dictionary_name[key]\n",
    "print(office['friends of sky'])"
   ]
  },
  {
   "cell_type": "code",
   "execution_count": 11,
   "id": "5af0289c-c743-44fd-bf2f-d44d1046c8db",
   "metadata": {
    "tags": []
   },
   "outputs": [
    {
     "name": "stdout",
     "output_type": "stream",
     "text": [
      "['Maggy', 'Eva', 'Lind']\n"
     ]
    }
   ],
   "source": [
    "print(office['Kitchen Cabinet'])"
   ]
  },
  {
   "cell_type": "code",
   "execution_count": 15,
   "id": "598e2f9c-2da7-49d1-9115-562ba8aae30d",
   "metadata": {
    "tags": []
   },
   "outputs": [],
   "source": [
    "# Remember lists append\n",
    "office[\"sky\"].append(\"Kirui\")\n"
   ]
  },
  {
   "cell_type": "code",
   "execution_count": 16,
   "id": "4b71d346-b8c5-46c5-b69e-2fb55e083882",
   "metadata": {
    "tags": []
   },
   "outputs": [
    {
     "name": "stdout",
     "output_type": "stream",
     "text": [
      "{'sky': ['Nyambane', 'Eugene', 'Yussuf', 'Kirui'], 'friends of sky': ['Martin', 'Lumumba', 'Chemu'], 'Kitchen Cabinet': ['Maggy', 'Eva', 'Lind']}\n"
     ]
    }
   ],
   "source": [
    "print(office)"
   ]
  },
  {
   "cell_type": "code",
   "execution_count": 19,
   "id": "a6ff0bbb-2f04-41f5-bb5d-8554a69b3ef7",
   "metadata": {
    "tags": []
   },
   "outputs": [],
   "source": [
    "office[\"Kitchen Cabinet\"][2]=\"Linda\""
   ]
  },
  {
   "cell_type": "code",
   "execution_count": 20,
   "id": "7a376dcb-34fe-4b66-aa3b-22830fd2d05b",
   "metadata": {
    "tags": []
   },
   "outputs": [
    {
     "name": "stdout",
     "output_type": "stream",
     "text": [
      "{'sky': ['Nyambane', 'Eugene', 'Yussuf', 'Kirui'], 'friends of sky': ['Martin', 'Lumumba', 'Chemu'], 'Kitchen Cabinet': ['Maggy', 'Eva', 'Linda']}\n"
     ]
    }
   ],
   "source": [
    "print(office)"
   ]
  },
  {
   "cell_type": "code",
   "execution_count": 21,
   "id": "0a6a1e24-2a73-4d35-b86f-e33612bdbfc6",
   "metadata": {
    "tags": []
   },
   "outputs": [
    {
     "name": "stdout",
     "output_type": "stream",
     "text": [
      "Lumumba\n"
     ]
    }
   ],
   "source": [
    "print(office[\"friends of sky\"][1])"
   ]
  },
  {
   "cell_type": "code",
   "execution_count": 22,
   "id": "cdd085a8-4307-4ae5-9c62-76b2d9e0419b",
   "metadata": {
    "tags": []
   },
   "outputs": [
    {
     "name": "stdout",
     "output_type": "stream",
     "text": [
      "LUMUMBA\n"
     ]
    }
   ],
   "source": [
    "print(office[\"friends of sky\"][1].upper())"
   ]
  },
  {
   "cell_type": "code",
   "execution_count": 24,
   "id": "266b8732-5aaf-49ce-9b75-d75fd758fda9",
   "metadata": {
    "tags": []
   },
   "outputs": [],
   "source": [
    "# Cafe\n",
    "menu = {\n",
    "    \"Breakfast\":{\n",
    "        \"Bevarages\":{\n",
    "            \"Tea\":[\"Masala\",\"Ginger\", \"Caramel\"],\n",
    "            \"Coffee\":[\"Black\", \"White\", \"Latte\"],\n",
    "            \"Cocoa\":[\"Hot\",\"Chocolate\",\"Free range\"]\n",
    "        },\n",
    "        \"accompaniments\" : {\n",
    "            \"wings\":[\"hot wings\", \"spicy\",\"lemon and herbs\"],\n",
    "            \"Kienyeji\":[\"Nduma\",\"Nguashe\",\"Cassava\"],\n",
    "        },\n",
    "        \n",
    "    },\n",
    "    \"lunch\" : {\n",
    "            \"Carbohydates\": [\"Ugali\", \"Mokimo\", \"Rice\"],\n",
    "            \"Veges\": [\"Sukuma\",\"Cabbage\"],\n",
    "            \"Proteins\":[\"Chiken\",\"Fish\",\"Mutton\"],\n",
    "        }\n",
    "}\n",
    "        \n",
    "\n",
    "        \n",
    "        "
   ]
  },
  {
   "cell_type": "code",
   "execution_count": 29,
   "id": "849eb2dd-98cd-4db0-a16c-2abcc19b2dd3",
   "metadata": {
    "tags": []
   },
   "outputs": [
    {
     "name": "stdout",
     "output_type": "stream",
     "text": [
      "{'Bevarages': {'Tea': ['Masala', 'Ginger', 'Caramel'], 'Coffee': ['Black', 'White', 'Latte'], 'Cocoa': ['Hot', 'Chocolate', 'Free range']}, 'accompaniments': {'wings': ['hot wings', 'spicy', 'lemon and herbs'], 'Kienyeji': ['Nduma', 'Nguashe', 'Cassava']}}\n"
     ]
    }
   ],
   "source": [
    "print(menu[\"Breakfast\"])"
   ]
  },
  {
   "cell_type": "code",
   "execution_count": 30,
   "id": "eee8bf3d-5065-420a-b07c-6d7801a2f5e7",
   "metadata": {
    "tags": []
   },
   "outputs": [
    {
     "data": {
      "text/plain": [
       "dict_keys(['Breakfast', 'lunch'])"
      ]
     },
     "execution_count": 30,
     "metadata": {},
     "output_type": "execute_result"
    }
   ],
   "source": [
    "menu.keys()"
   ]
  },
  {
   "cell_type": "code",
   "execution_count": 31,
   "id": "8828571e-10d3-42ea-a08f-1ed4884ae8ab",
   "metadata": {
    "tags": []
   },
   "outputs": [
    {
     "name": "stdout",
     "output_type": "stream",
     "text": [
      "{'Bevarages': {'Tea': ['Masala', 'Ginger', 'Caramel'], 'Coffee': ['Black', 'White', 'Latte'], 'Cocoa': ['Hot', 'Chocolate', 'Free range']}, 'accompaniments': {'wings': ['hot wings', 'spicy', 'lemon and herbs'], 'Kienyeji': ['Nduma', 'Nguashe', 'Cassava']}}\n"
     ]
    }
   ],
   "source": [
    "print(menu[\"Breakfast\"])"
   ]
  },
  {
   "cell_type": "code",
   "execution_count": 32,
   "id": "8d4c1978-f345-4193-a84e-6a83d67b0758",
   "metadata": {
    "tags": []
   },
   "outputs": [
    {
     "data": {
      "text/plain": [
       "dict"
      ]
     },
     "execution_count": 32,
     "metadata": {},
     "output_type": "execute_result"
    }
   ],
   "source": [
    "type(menu[\"Breakfast\"])"
   ]
  },
  {
   "cell_type": "code",
   "execution_count": 34,
   "id": "d40a99d6-c4f1-45a4-9ca3-c09005e0601b",
   "metadata": {
    "tags": []
   },
   "outputs": [
    {
     "data": {
      "text/plain": [
       "dict_keys(['Bevarages', 'accompaniments'])"
      ]
     },
     "execution_count": 34,
     "metadata": {},
     "output_type": "execute_result"
    }
   ],
   "source": [
    "menu[\"Breakfast\"].keys()"
   ]
  },
  {
   "cell_type": "code",
   "execution_count": 35,
   "id": "8cde71cd-1d8d-4303-8516-d9dcc70527dc",
   "metadata": {
    "tags": []
   },
   "outputs": [
    {
     "name": "stdout",
     "output_type": "stream",
     "text": [
      "{'Tea': ['Masala', 'Ginger', 'Caramel'], 'Coffee': ['Black', 'White', 'Latte'], 'Cocoa': ['Hot', 'Chocolate', 'Free range']}\n"
     ]
    }
   ],
   "source": [
    "print(menu[\"Breakfast\"][\"Bevarages\"])             \n",
    "            "
   ]
  },
  {
   "cell_type": "code",
   "execution_count": 36,
   "id": "5f51c959-c5c3-43af-aef2-c73ac7e17864",
   "metadata": {
    "tags": []
   },
   "outputs": [
    {
     "name": "stdout",
     "output_type": "stream",
     "text": [
      "['Masala', 'Ginger', 'Caramel']\n"
     ]
    }
   ],
   "source": [
    "print(menuprint(menu[\"Breakfast\"][\"Bevarages\"][\"Tea\"]))"
   ]
  },
  {
   "cell_type": "code",
   "execution_count": 37,
   "id": "0dc06366-77fc-4b63-a32b-c51fc503c7fe",
   "metadata": {
    "tags": []
   },
   "outputs": [
    {
     "name": "stdout",
     "output_type": "stream",
     "text": [
      "Ginger\n"
     ]
    }
   ],
   "source": [
    "print(menu[\"Breakfast\"][\"Bevarages\"][\"Tea\"][1])"
   ]
  },
  {
   "cell_type": "code",
   "execution_count": 42,
   "id": "3c7ac75a-f7e3-4f23-be7f-c33f4e8c0462",
   "metadata": {
    "tags": []
   },
   "outputs": [
    {
     "name": "stdout",
     "output_type": "stream",
     "text": [
      "Lumumba had the following for breakfast:\n",
      "\t*Ginger\n"
     ]
    }
   ],
   "source": [
    "print(f'Lumumba had the following for breakfast:\\n\\t*{menu[\"Breakfast\"][\"Bevarages\"][\"Tea\"][1]}')"
   ]
  },
  {
   "cell_type": "code",
   "execution_count": 43,
   "id": "80990f47-9d10-4986-b720-09d82179c421",
   "metadata": {
    "tags": []
   },
   "outputs": [
    {
     "name": "stdout",
     "output_type": "stream",
     "text": [
      "Lumumba had the following for breakfast:\n",
      "\t*Ginger\n",
      "\t*Nguashe\n"
     ]
    }
   ],
   "source": [
    "print(f'Lumumba had the following for breakfast:\\n\\t*{menu[\"Breakfast\"][\"Bevarages\"][\"Tea\"][1]}\\n\\t*{menu[\"Breakfast\"][\"accompaniments\"][\"Kienyeji\"][1]}')"
   ]
  },
  {
   "cell_type": "code",
   "execution_count": null,
   "id": "ba849df0-413b-406d-baa8-4b714cfeb61e",
   "metadata": {},
   "outputs": [],
   "source": []
  }
 ],
 "metadata": {
  "kernelspec": {
   "display_name": "Python 3 (ipykernel)",
   "language": "python",
   "name": "python3"
  },
  "language_info": {
   "codemirror_mode": {
    "name": "ipython",
    "version": 3
   },
   "file_extension": ".py",
   "mimetype": "text/x-python",
   "name": "python",
   "nbconvert_exporter": "python",
   "pygments_lexer": "ipython3",
   "version": "3.11.3"
  }
 },
 "nbformat": 4,
 "nbformat_minor": 5
}
