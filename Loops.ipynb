{
 "cells": [
  {
   "cell_type": "code",
   "execution_count": null,
   "id": "08ce94f5-cc76-495b-9e4b-8f54bfe57352",
   "metadata": {},
   "outputs": [],
   "source": []
  },
  {
   "cell_type": "code",
   "execution_count": null,
   "id": "2087a997-0411-45be-8d49-fdbb72dbbd36",
   "metadata": {},
   "outputs": [],
   "source": [
    "### For Loop\n",
    "\n",
    "* Basic syntax \n",
    "\n",
    "```\n",
    "for item in sequence:\n",
    "    # code to be executed for each item\n",
    "    # ...\n",
    "```\n",
    "\n",
    "* `for`: Keyword that signals the start of a for loop.\n",
    "* `item`: Is a variable that represents the current item in the sequence during each iteration of the loop.\n",
    "* `in` : A keyword used to specify that you are iterating *in* the given sequence.\n",
    "* `sequence` : Collection of items that you want to iterate over (e.g., list, string, tuple, or range).\n",
    "* `:` : Signifies the start of the ind\n",
    "dented code block that will be executed for each iteration of the loop. \n",
    "\n",
    "Inside the indented code block, you place the actions or operations that you want to perform on each item in the sequence.The loop will automatically iterate through the entire sequence, executing the code block for each item."
   ]
  },
  {
   "cell_type": "code",
   "execution_count": 9,
   "id": "12234f98-c969-4a6e-827b-21eff37654e4",
   "metadata": {
    "tags": []
   },
   "outputs": [
    {
     "name": "stdout",
     "output_type": "stream",
     "text": [
      "Kisumu\n",
      "Kisii\n",
      "Nyamira\n"
     ]
    }
   ],
   "source": [
    "# code demonstration\n",
    "# list of high courts in Kenya \n",
    "\n",
    "high_court=['Kisumu','Kisii', 'Nyamira', 'Migori', 'Kitale']\n",
    "for court in high_court:\n",
    "    # code block to execute for each item\n",
    "    print(court)\n",
    "    if(court=='Nyamira'):\n",
    "        break;"
   ]
  },
  {
   "cell_type": "code",
   "execution_count": 8,
   "id": "0c334975-5aa0-48b9-b4d3-283fdcabaa5e",
   "metadata": {
    "tags": []
   },
   "outputs": [
    {
     "data": {
      "text/plain": [
       "True"
      ]
     },
     "execution_count": 8,
     "metadata": {},
     "output_type": "execute_result"
    }
   ],
   "source": [
    "4==5\n",
    "4==4"
   ]
  },
  {
   "cell_type": "code",
   "execution_count": null,
   "id": "eb054d25-2c0e-4816-a0b6-2d26f6af5466",
   "metadata": {},
   "outputs": [],
   "source": [
    "### Sequence Types\n",
    "* Referes to data structures that hold collection of elemnets, whwre each element is accessible by an index or a key.\n",
    "*These elements are ordered meaning they have a specific position with the sequence."
   ]
  },
  {
   "cell_type": "code",
   "execution_count": 16,
   "id": "1bf62340-ed0c-46bb-8b6a-4fbab2e86fb8",
   "metadata": {
    "tags": []
   },
   "outputs": [
    {
     "name": "stdout",
     "output_type": "stream",
     "text": [
      "KISUMU\n",
      "KISII\n",
      "NYAMIRA\n",
      "MIGORI\n",
      "KITALE\n"
     ]
    }
   ],
   "source": [
    "#looping through list court\n",
    "for court in high_court:\n",
    "    lower_case= court.lower()\n",
    "    upper_case= court.upper()\n",
    "    print(upper_case)"
   ]
  },
  {
   "cell_type": "code",
   "execution_count": 17,
   "id": "6d49c8f1-a27b-42b8-b606-3cda418337e0",
   "metadata": {
    "tags": []
   },
   "outputs": [
    {
     "name": "stdout",
     "output_type": "stream",
     "text": [
      "['Kisumu', 'Kisii', 'Nyamira', 'Migori', 'Kitale']\n"
     ]
    }
   ],
   "source": [
    "print(high_court)"
   ]
  },
  {
   "cell_type": "code",
   "execution_count": 13,
   "id": "357fa349-ca7c-439b-8460-85ee49ecc8c0",
   "metadata": {
    "tags": []
   },
   "outputs": [
    {
     "name": "stdout",
     "output_type": "stream",
     "text": [
      "['Kisumu', 'Kisii', 'Nyamira', 'Migori', 'Kitale']\n",
      "Nyamira\n"
     ]
    }
   ],
   "source": [
    "# list\n",
    "print(high_court)\n",
    "# accessing elemnets/items in a list by index\n",
    "print(high_court[2])"
   ]
  },
  {
   "cell_type": "code",
   "execution_count": 18,
   "id": "b74999a3-ec0c-421a-98e7-36398e7a4d40",
   "metadata": {
    "tags": []
   },
   "outputs": [
    {
     "name": "stdout",
     "output_type": "stream",
     "text": [
      "('Kocheli', 'Solo', 'Nyambane', 'Yusuf')\n"
     ]
    }
   ],
   "source": [
    "# Tuple is similar to lists but the are immutable/cannot be changed, meaning:\n",
    "#their contents cannot be changed after creation\n",
    "#Syntax tuple_name = (Item1, Item 2.....)\n",
    "noise_makers= (\"Kocheli\", \"Solo\", \"Nyambane\", \"Yusuf\")\n",
    "print(noise_makers)"
   ]
  },
  {
   "cell_type": "code",
   "execution_count": 21,
   "id": "5d91f8ea-3eae-484d-9bc1-c51b9b215d1b",
   "metadata": {
    "tags": []
   },
   "outputs": [
    {
     "name": "stdout",
     "output_type": "stream",
     "text": [
      "Kocheli\n",
      "Solo\n",
      "Nyambane\n",
      "Yusuf\n"
     ]
    }
   ],
   "source": [
    "#loop through items in tuple\n",
    "for noise_maker in noise_makers:\n",
    "    #code to be executed\n",
    "    print(noise_maker)"
   ]
  },
  {
   "cell_type": "code",
   "execution_count": 24,
   "id": "460fdbe9-6843-45d4-bb1e-a2be75605ba4",
   "metadata": {
    "tags": []
   },
   "outputs": [
    {
     "name": "stdout",
     "output_type": "stream",
     "text": [
      "Kocheli\n"
     ]
    }
   ],
   "source": [
    "# accessing items in a tuple\n",
    "    \n",
    "print(noise_makers[0])\n",
    "    \n"
   ]
  },
  {
   "cell_type": "code",
   "execution_count": null,
   "id": "6ff20127-a56f-4639-b834-1a088844676b",
   "metadata": {},
   "outputs": [],
   "source": []
  },
  {
   "cell_type": "code",
   "execution_count": null,
   "id": "dddc2ece-54de-43c6-8aa4-a513b6d13933",
   "metadata": {},
   "outputs": [],
   "source": []
  },
  {
   "cell_type": "code",
   "execution_count": null,
   "id": "bb5999a1-26ef-43bf-82f7-9a4d0f4b69cc",
   "metadata": {
    "jupyter": {
     "source_hidden": true
    },
    "tags": []
   },
   "outputs": [],
   "source": [
    "Loop Body\n",
    "\n",
    "*"
   ]
  },
  {
   "cell_type": "code",
   "execution_count": null,
   "id": "7f709f95-3768-4cf3-affd-1c8140e73610",
   "metadata": {},
   "outputs": [],
   "source": [
    "### Importanat points to consider:\n",
    "1.**indentation** - The loop body is indented to indicate thta is part of the loop. it deifess the scope of loop body\n",
    "2.**Iterations**- loop body is excuted onnce for each item in sequence that contains the elemnet upon which instructions and execution will be repeated.\n",
    "3. **accessing loop varaiable**- The loop variable value can be accessed inside the loop body to perform specific actions to that value.\n",
    "4.** Manipulation**- Inside the loop body you can perform various operations on the loop variable or use it to interact with other parts of the programm.\n"
   ]
  },
  {
   "cell_type": "code",
   "execution_count": 3,
   "id": "74cd71b4-62aa-4f6c-8cc5-3a95411c0f13",
   "metadata": {
    "tags": []
   },
   "outputs": [
    {
     "name": "stdout",
     "output_type": "stream",
     "text": [
      "The square of 1=1\n",
      "The square of 2=4\n",
      "The square of 3=9\n",
      "The square of 4=16\n",
      "The square of 5=25\n"
     ]
    }
   ],
   "source": [
    "# Example\n",
    "# ** to power 2\n",
    "for num in range(1 ,6):\n",
    "    square=num**2\n",
    "    print(f\"The square of {num}={square}\")"
   ]
  },
  {
   "cell_type": "code",
   "execution_count": null,
   "id": "ecd63960-eb63-41aa-ad9c-12841e234592",
   "metadata": {},
   "outputs": [],
   "source": []
  },
  {
   "cell_type": "markdown",
   "id": "46572718-f379-4b15-8005-fe46e877d335",
   "metadata": {},
   "source": [
    "### 'range ()\n",
    "* a function commonly used especially when wirking with loops\n",
    "* Generates a sequence of numbers within specified range, which can be used for various purposes e.g eviterating through a loop of ceratin numbers or creating a list of numbers\n",
    "* 'range()' takes up to three arguments\n",
    "1. **start(inclusive, optional)** - The starting value of the sequence. If omitted, the sequence starts from zero by default.\n",
    "2. **stop(exclusive)** - The ending value of the sequence. The sequence will go up to the value, but not include the value in the sequence. example if stop is 50, and start is 0, the sequence will be all the numbers including 0 to 49, but not 50.\n",
    "3. **step(optional)** - The difference between consecutive values in the sequence. By default, the value of step is 1.\n",
    "*syntax \n",
    "```range(start, stop, step)``\n"
   ]
  },
  {
   "cell_type": "code",
   "execution_count": null,
   "id": "cd814ac2-f3bf-4617-b8e5-1bbd23df27b4",
   "metadata": {},
   "outputs": [],
   "source": [
    "#### Basic range\n",
    "\n",
    "* Only using stop to generate a sequence of numbers from 0 to 10\n",
    "* Remember if you dont include start and step, python will automatically pick the numbers 0 and 1 as the default value for stop and step"
   ]
  },
  {
   "cell_type": "code",
   "execution_count": 14,
   "id": "09c39a71-497a-4628-88bd-fe555cd1d20e",
   "metadata": {
    "tags": []
   },
   "outputs": [
    {
     "name": "stdout",
     "output_type": "stream",
     "text": [
      "0\n",
      "1\n",
      "2\n",
      "3\n",
      "4\n",
      "5\n",
      "6\n",
      "7\n",
      "8\n",
      "9\n",
      "10\n"
     ]
    }
   ],
   "source": [
    "# from 0 to 10\n",
    "for num in range (11):\n",
    "    print(num)"
   ]
  },
  {
   "cell_type": "code",
   "execution_count": 5,
   "id": "9a7d3928-0b06-4b6b-98fb-23c8dc5ef544",
   "metadata": {
    "tags": []
   },
   "outputs": [
    {
     "name": "stdout",
     "output_type": "stream",
     "text": [
      "HelloLumumba, welcome to training!!\n"
     ]
    }
   ],
   "source": [
    "def greet_students(student_name):\n",
    "    message= f\"Hello{student_name}, welcome to training!!\"\n",
    "    return print (message)\n",
    "greet_students(\"Lumumba\")"
   ]
  },
  {
   "cell_type": "markdown",
   "id": "3a8b4016-0a54-4799-b92e-77b0689aaece",
   "metadata": {
    "tags": []
   },
   "source": [
    "#### specify start and stop\n",
    "*generate a sequence where we specify start of the sequenec \n"
   ]
  },
  {
   "cell_type": "code",
   "execution_count": 15,
   "id": "a2874341-3f18-4f2d-a6bd-2d3b27b41591",
   "metadata": {
    "tags": []
   },
   "outputs": [
    {
     "name": "stdout",
     "output_type": "stream",
     "text": [
      "30\n",
      "31\n",
      "32\n",
      "33\n",
      "34\n",
      "35\n",
      "36\n",
      "37\n",
      "38\n",
      "39\n",
      "40\n"
     ]
    }
   ],
   "source": [
    "#number between 30 and 40\n",
    "for num in range (30, 41):\n",
    "    print(num)"
   ]
  },
  {
   "cell_type": "code",
   "execution_count": null,
   "id": "5ca77a77-2011-496b-9537-7abb66a414aa",
   "metadata": {},
   "outputs": [],
   "source": [
    "#number between 30 and 40\n",
    "for num in range (30, 41):\n",
    "    print(num)"
   ]
  },
  {
   "cell_type": "code",
   "execution_count": null,
   "id": "901d8344-8482-457e-b912-bece606ea108",
   "metadata": {},
   "outputs": [],
   "source": [
    "#### Specufying start, stop and step\n",
    "step is the diffrence btwn two consecutive numbers"
   ]
  },
  {
   "cell_type": "code",
   "execution_count": 16,
   "id": "71e9f79c-d198-4f47-92bd-f7eac73f31b6",
   "metadata": {
    "tags": []
   },
   "outputs": [
    {
     "name": "stdout",
     "output_type": "stream",
     "text": [
      "3\n",
      "6\n",
      "9\n",
      "12\n",
      "15\n",
      "18\n",
      "21\n",
      "24\n",
      "27\n",
      "30\n"
     ]
    }
   ],
   "source": [
    "# all numbers divisible by 3 between 3 and\n",
    "for num in range (3, 31, 3):\n",
    "    print(num)"
   ]
  },
  {
   "cell_type": "code",
   "execution_count": 17,
   "id": "2d96c7b0-07ad-498f-9c67-7d5786978f46",
   "metadata": {
    "tags": []
   },
   "outputs": [
    {
     "name": "stdout",
     "output_type": "stream",
     "text": [
      "6\n",
      "9\n",
      "12\n",
      "15\n",
      "18\n",
      "21\n",
      "24\n",
      "27\n",
      "30\n",
      "33\n",
      "36\n",
      "39\n"
     ]
    }
   ],
   "source": [
    "# all even numbers divisible by 3 between 3 and\n",
    "for num in range (6, 42, 3):\n",
    "    print(num)"
   ]
  },
  {
   "cell_type": "code",
   "execution_count": 24,
   "id": "b08f5fbc-b13a-4355-8a66-3f7276071c5e",
   "metadata": {
    "tags": []
   },
   "outputs": [
    {
     "ename": "NameError",
     "evalue": "name 'students_name' is not defined",
     "output_type": "error",
     "traceback": [
      "\u001b[1;31m---------------------------------------------------------------------------\u001b[0m",
      "\u001b[1;31mNameError\u001b[0m                                 Traceback (most recent call last)",
      "Cell \u001b[1;32mIn[24], line 1\u001b[0m\n\u001b[1;32m----> 1\u001b[0m \u001b[38;5;28mprint\u001b[39m(students_name)\n",
      "\u001b[1;31mNameError\u001b[0m: name 'students_name' is not defined"
     ]
    }
   ],
   "source": [
    "print(students_name)"
   ]
  },
  {
   "cell_type": "code",
   "execution_count": 25,
   "id": "5baa7a61-5035-4ebb-bc12-e5025cefa443",
   "metadata": {
    "tags": []
   },
   "outputs": [
    {
     "name": "stdout",
     "output_type": "stream",
     "text": [
      "[0, 2, 4, 6, 8, 10, 12, 14, 16, 18, 20, 22, 24, 26, 28, 30]\n"
     ]
    }
   ],
   "source": [
    "#Disclaimer -- fot demo only\n",
    "even_numbers=[]\n",
    "for num in range(0,32,2):\n",
    "    even_numbers.append(num)\n",
    "print(even_numbers)"
   ]
  },
  {
   "cell_type": "code",
   "execution_count": 22,
   "id": "d08abbc4-375a-4067-b388-77f7044dccba",
   "metadata": {
    "tags": []
   },
   "outputs": [
    {
     "ename": "NameError",
     "evalue": "name 'student_names' is not defined",
     "output_type": "error",
     "traceback": [
      "\u001b[1;31m---------------------------------------------------------------------------\u001b[0m",
      "\u001b[1;31mNameError\u001b[0m                                 Traceback (most recent call last)",
      "Cell \u001b[1;32mIn[22], line 1\u001b[0m\n\u001b[1;32m----> 1\u001b[0m \u001b[38;5;28mprint\u001b[39m(student_names)\n",
      "\u001b[1;31mNameError\u001b[0m: name 'student_names' is not defined"
     ]
    }
   ],
   "source": [
    "print(student_name)"
   ]
  },
  {
   "cell_type": "code",
   "execution_count": 26,
   "id": "eadb83e3-59d7-48d8-8f3e-afecf06d1278",
   "metadata": {
    "tags": []
   },
   "outputs": [
    {
     "ename": "NameError",
     "evalue": "name 'noise_makers' is not defined",
     "output_type": "error",
     "traceback": [
      "\u001b[1;31m---------------------------------------------------------------------------\u001b[0m",
      "\u001b[1;31mNameError\u001b[0m                                 Traceback (most recent call last)",
      "Cell \u001b[1;32mIn[26], line 1\u001b[0m\n\u001b[1;32m----> 1\u001b[0m \u001b[38;5;28mprint\u001b[39m(noise_makers)\n",
      "\u001b[1;31mNameError\u001b[0m: name 'noise_makers' is not defined"
     ]
    }
   ],
   "source": [
    "print(noise_makers)"
   ]
  },
  {
   "cell_type": "code",
   "execution_count": 27,
   "id": "9609a6b5-c603-4302-a3e5-2e358ceac5b3",
   "metadata": {
    "tags": []
   },
   "outputs": [],
   "source": [
    "#nested loops\n"
   ]
  },
  {
   "cell_type": "code",
   "execution_count": 5,
   "id": "b736a35e-a1d9-4b30-af75-d2c8076c7b1c",
   "metadata": {
    "tags": []
   },
   "outputs": [
    {
     "name": "stdout",
     "output_type": "stream",
     "text": [
      "HelloLumumba, welcome to training!!\n"
     ]
    }
   ],
   "source": [
    "def greet_students(student_name):\n",
    "    message= f\"Hello{student_name}, welcome to training!!\"\n",
    "    return print (message)\n",
    "greet_students(\"Lumumba\")"
   ]
  },
  {
   "cell_type": "code",
   "execution_count": null,
   "id": "ba489d0e-e88a-455a-9389-8c15442cecec",
   "metadata": {
    "tags": []
   },
   "outputs": [],
   "source": [
    "student_names= ['Prof','Lumumba','Julia']\n",
    "                for name in student_names:\n",
    "                greet_students(name)"
   ]
  },
  {
   "cell_type": "code",
   "execution_count": null,
   "id": "0cbde1ce-e30a-45df-adaf-91980e694fea",
   "metadata": {
    "tags": []
   },
   "outputs": [],
   "source": []
  },
  {
   "cell_type": "code",
   "execution_count": 29,
   "id": "00e0189d-6b16-4016-b35c-f25d25afd1e0",
   "metadata": {
    "tags": []
   },
   "outputs": [
    {
     "name": "stdout",
     "output_type": "stream",
     "text": [
      "* \n",
      "* * \n",
      "* * * \n",
      "* * * * \n"
     ]
    }
   ],
   "source": [
    "for i in range(1, 5):  \n",
    "    print('* ' * i)"
   ]
  },
  {
   "cell_type": "code",
   "execution_count": 31,
   "id": "77d0eb86-cf9b-406a-80db-b06aece2915f",
   "metadata": {
    "tags": []
   },
   "outputs": [
    {
     "name": "stdout",
     "output_type": "stream",
     "text": [
      "* \n",
      "* * \n",
      "* * * \n",
      "* * * * \n"
     ]
    }
   ],
   "source": [
    "#define number of rows\n",
    "num_rows=4\n",
    "#outer loop for rows\n",
    "for i in range(num_rows):\n",
    "    #inner loop for printing the asterix(*)\n",
    "    for j in range(i+1):\n",
    "        print(\"*\",end=\" \")\n",
    "    # move the next line after each row is printed\n",
    "    print()\n",
    "\n",
    "    "
   ]
  },
  {
   "cell_type": "code",
   "execution_count": 32,
   "id": "3a52ec69-1246-4d9b-bf5c-cd7ae09224ba",
   "metadata": {
    "tags": []
   },
   "outputs": [
    {
     "name": "stdout",
     "output_type": "stream",
     "text": [
      "* \n",
      "* * \n",
      "* * * \n",
      "* * * * \n",
      "* * * * * \n"
     ]
    }
   ],
   "source": [
    "num_rows = 5\n",
    "Star_List = \"*\"\n",
    "for i in range (num_rows):\n",
    "    for j in range (i+1):\n",
    "        print (Star_List, end = \" \")\n",
    "    print ()"
   ]
  },
  {
   "cell_type": "code",
   "execution_count": 34,
   "id": "5c099176-e818-490b-8131-4948b7ffaaad",
   "metadata": {
    "tags": []
   },
   "outputs": [
    {
     "ename": "SyntaxError",
     "evalue": "invalid syntax. Perhaps you forgot a comma? (1422581078.py, line 5)",
     "output_type": "error",
     "traceback": [
      "\u001b[1;36m  Cell \u001b[1;32mIn[34], line 5\u001b[1;36m\u001b[0m\n\u001b[1;33m    print (end = \" \"Star_List)\u001b[0m\n\u001b[1;37m                 ^\u001b[0m\n\u001b[1;31mSyntaxError\u001b[0m\u001b[1;31m:\u001b[0m invalid syntax. Perhaps you forgot a comma?\n"
     ]
    }
   ],
   "source": [
    "num_rows = 5\n",
    "Star_List = \"*\"\n",
    "for i in range (num_rows):\n",
    "    for j in range (1-i):\n",
    "        print (end = \" \"Star_List, end = \" \")\n",
    "    print ()"
   ]
  },
  {
   "cell_type": "code",
   "execution_count": 4,
   "id": "03261349-45ef-4562-9cb5-fe128dc28f23",
   "metadata": {},
   "outputs": [
    {
     "name": "stdout",
     "output_type": "stream",
     "text": [
      "        * \n",
      "      * * \n",
      "    * * * \n",
      "  * * * * \n",
      "* * * * * \n"
     ]
    }
   ],
   "source": [
    "rows =5\n",
    "for i in range (rows):\n",
    "    #print spaces before asterisks\n",
    "    for k in range (rows -i -1):\n",
    "        print(' ', end=' ')\n",
    "    #print asterisks for the current row\n",
    "    for j in range (i+1):\n",
    "        print('*', end=' ')\n",
    "    print()"
   ]
  },
  {
   "cell_type": "code",
   "execution_count": null,
   "id": "54bd0edd-a4df-4813-bc35-1ed9869dbf79",
   "metadata": {},
   "outputs": [],
   "source": [
    "list=[1,2,3,4,5]\n",
    "for i in len(list):\n",
    "    for h in "
   ]
  },
  {
   "cell_type": "code",
   "execution_count": 21,
   "id": "13170823-0c36-4e4c-be20-29e8c99b0c87",
   "metadata": {
    "tags": []
   },
   "outputs": [
    {
     "name": "stdout",
     "output_type": "stream",
     "text": [
      "   *\n",
      "  **\n",
      " ***\n",
      "****\n"
     ]
    }
   ],
   "source": [
    "# number of rows\n",
    "rows = 4\n",
    "#loop through each row\n",
    "for i in range (0,rows):\n",
    "    for j in range(rows -i-1):\n",
    "        print(\" \", end=\"\")\n",
    "    for k in range (0, i+1):\n",
    "        print(\"*\", end=\"\")\n",
    "    print() # move to next line after each row "
   ]
  },
  {
   "cell_type": "markdown",
   "id": "1435bd8d-6540-4a24-8f22-ab34cc8fcbd6",
   "metadata": {},
   "source": [
    "**BREAKAND CONTNUE***"
   ]
  },
  {
   "cell_type": "markdown",
   "id": "9c46ad0b-2276-4a10-9058-7d89ea95fb3c",
   "metadata": {},
   "source": [
    "* They are control flow statement (used to control the flow loops)\n",
    "* ** Break** used to immediately exit a loop when a certain condition is met.\n",
    "when the programme encounters the ``` break`` statement , it terminats the loop and continues to execute the code after the loop. its is often used when a specific conition is satisfied and there is no need to continue looping further"
   ]
  },
  {
   "cell_type": "code",
   "execution_count": 22,
   "id": "09d83a1d-064b-48a9-a66d-fc105520c9d2",
   "metadata": {
    "tags": []
   },
   "outputs": [
    {
     "name": "stdout",
     "output_type": "stream",
     "text": [
      "0\n",
      "1\n",
      "2\n",
      "3\n",
      "4\n"
     ]
    }
   ],
   "source": [
    "# example \n",
    "for i in range (10):\n",
    "    if i == 5:\n",
    "        break # exit the llop when i becomes 5\n",
    "    print(i)"
   ]
  },
  {
   "cell_type": "code",
   "execution_count": 27,
   "id": "e4f5d852-c49f-44b3-a7af-4a7113fa75a5",
   "metadata": {
    "tags": []
   },
   "outputs": [
    {
     "name": "stdout",
     "output_type": "stream",
     "text": [
      "0\n",
      "1\n",
      "2\n",
      "3\n",
      "4\n",
      "5\n"
     ]
    }
   ],
   "source": [
    "# example 2\n",
    "for i in range (10):\n",
    "    print(i)\n",
    "    if (i == 5):\n",
    "        break # exit the llop when i becomes 5\n",
    "   "
   ]
  },
  {
   "cell_type": "markdown",
   "id": "323555c5-7def-44fc-a1d4-732f27ba0b5d",
   "metadata": {},
   "source": [
    "* **Continue** - Used to skip the remaining code in the current iteration of a loop and move to the next iteration. Useful when you want to skip certain steps or conditions within a loop without exiting the loop entirely."
   ]
  },
  {
   "cell_type": "code",
   "execution_count": 33,
   "id": "ae3b15e4-bd74-4853-92af-ca573184a438",
   "metadata": {
    "tags": []
   },
   "outputs": [
    {
     "ename": "NameError",
     "evalue": "name 'eugene_lists' is not defined",
     "output_type": "error",
     "traceback": [
      "\u001b[1;31m---------------------------------------------------------------------------\u001b[0m",
      "\u001b[1;31mNameError\u001b[0m                                 Traceback (most recent call last)",
      "Cell \u001b[1;32mIn[33], line 11\u001b[0m\n\u001b[0;32m      9\u001b[0m         \u001b[38;5;28;01mcontinue\u001b[39;00m\n\u001b[0;32m     10\u001b[0m     \u001b[38;5;28;01melse\u001b[39;00m :\n\u001b[1;32m---> 11\u001b[0m         eugene_lists\u001b[38;5;241m.\u001b[39mappend(food)\n\u001b[0;32m     12\u001b[0m \u001b[38;5;28mprint\u001b[39m(eugene_list)\n",
      "\u001b[1;31mNameError\u001b[0m: name 'eugene_lists' is not defined"
     ]
    }
   ],
   "source": [
    "# food list \n",
    "breakfast = [\"Eggs\", \"Mahamri\",\"Mbaazi\", \"Vucheni\", \"Tea\"]\n",
    "\n",
    "eugene_list =[]\n",
    "for food in breakfast:\n",
    "    if(food == \"Eggs\"):\n",
    "        continue\n",
    "    elif(food ==\"Vucheni\"):\n",
    "        continue\n",
    "    else :\n",
    "        eugene_lists.append(food)\n",
    "print(eugene_list)\n",
    "    "
   ]
  },
  {
   "cell_type": "code",
   "execution_count": 35,
   "id": "ce872f23-2b1c-430d-a652-8f8545578b2c",
   "metadata": {
    "tags": []
   },
   "outputs": [
    {
     "name": "stdout",
     "output_type": "stream",
     "text": [
      "0\n",
      "1\n",
      "2\n",
      "3\n",
      "4\n"
     ]
    }
   ],
   "source": [
    "# example 2\n",
    "for i in range (10):\n",
    "    if (i == 5):\n",
    "        break # exit the llop when i becomes 5\n",
    "    print(i)"
   ]
  },
  {
   "cell_type": "code",
   "execution_count": 37,
   "id": "7c6a8c20-35d8-4e47-91d0-3359ca81bd17",
   "metadata": {
    "tags": []
   },
   "outputs": [
    {
     "name": "stdout",
     "output_type": "stream",
     "text": [
      "['Vucheni', 'Tea', 'Milk', 'Ndazi']\n"
     ]
    }
   ],
   "source": [
    "# example4\n",
    "# food list\n",
    "breakfast = [\"Eggs\", \"Mahamri\", \"Mbaazi\", \"Vucheni\", \"Tea\", \"Milk\", \"Ndazi\"]\n",
    "\n",
    "my_list = []\n",
    "\n",
    "for food in breakfast:\n",
    "    if (food == \"Eggs\") or (food==\"Mahamri\") or(food== \"Mbaazi\"):\n",
    "        continue\n",
    "    else:\n",
    "        my_list.append(food)\n",
    "\n",
    "print(my_list)"
   ]
  },
  {
   "cell_type": "markdown",
   "id": "2f88c06e-512c-4368-8541-66ddaddf4a23",
   "metadata": {},
   "source": [
    "### While Loops\n",
    "\n",
    "* Allow you to repeat a block of code as long as a certain condition remains `True`.\n",
    "* Basic Syntax \n",
    "```\n",
    "while condition:\n",
    "    # code block \n",
    "    # to execute\n",
    "    ```\n",
    " It's crucial to make sure that the condition eventually becomes `False`; Reason - otherwise you will end up with an infinite loop, cause your program to run indefinitely(Well till your ram crashes)"
   ]
  },
  {
   "cell_type": "markdown",
   "id": "36d2e8d6-1b08-4e4f-9294-7f93e847ddd0",
   "metadata": {
    "tags": []
   },
   "source": [
    "#### While Loop key concepts \n",
    "1. **Initialization** - Initialize any variables that are used in loop condition before entering the loop.\n",
    "2. **Update our condition** - Inside the loop, make sure that the condition is modified in a way that leads to it eventually becoming `False`. Otherwise you will create an infinite loop."
   ]
  },
  {
   "cell_type": "code",
   "execution_count": 39,
   "id": "8e9756fa-fe62-4a92-9c52-7b5c8bb439ba",
   "metadata": {
    "tags": []
   },
   "outputs": [
    {
     "name": "stdout",
     "output_type": "stream",
     "text": [
      "0\n",
      "1\n",
      "2\n",
      "3\n",
      "4\n",
      "5\n"
     ]
    }
   ],
   "source": [
    "#Example -while loop to print numbers 1 to 5\n",
    "count = 0 #initialization\n",
    "while(count<=5): # While loop with condition\n",
    "    print(count)\n",
    "    count +=1 #updating our condition after every iteration\n",
    "    "
   ]
  },
  {
   "cell_type": "code",
   "execution_count": 40,
   "id": "3f9b8d2c-67e1-4b53-a916-2e60085abe89",
   "metadata": {
    "tags": []
   },
   "outputs": [
    {
     "name": "stdout",
     "output_type": "stream",
     "text": [
      "apple\n",
      "banna\n"
     ]
    }
   ],
   "source": [
    "#Example 2\n",
    "fruit =[\"apple\", \"banna\",\"cherry\", \"mango\", \"pawpaw\"]\n",
    "print(fruit[0])\n",
    "print(fruit[1])"
   ]
  },
  {
   "cell_type": "code",
   "execution_count": 43,
   "id": "c7fe060c-197b-45ce-be34-f6353a975e35",
   "metadata": {
    "tags": []
   },
   "outputs": [
    {
     "name": "stdout",
     "output_type": "stream",
     "text": [
      "apple\n",
      "banna\n",
      "cherry\n",
      "mango\n",
      "pawpaw\n"
     ]
    }
   ],
   "source": [
    "# Print everything in the list\n",
    "index = 0\n",
    "while (index <5):\n",
    "    print(fruit [index])\n",
    "    index +=1 \n"
   ]
  },
  {
   "cell_type": "code",
   "execution_count": 47,
   "id": "4a2235af-3ce2-4beb-924e-e01be991f81d",
   "metadata": {
    "tags": []
   },
   "outputs": [
    {
     "name": "stdout",
     "output_type": "stream",
     "text": [
      "1 *= 9\n",
      "2 *= 18\n",
      "3 *= 27\n",
      "4 *= 36\n",
      "5 *= 45\n",
      "6 *= 54\n",
      "7 *= 63\n",
      "8 *= 72\n",
      "9 *= 81\n",
      "10 *= 90\n"
     ]
    }
   ],
   "source": [
    "# Example 3 -Multiplication table of 9\n",
    "multiplier = 1\n",
    "while(multiplier <= 10):\n",
    "    product = multiplier *9\n",
    "    print (f\"{multiplier} *= {product}\")\n",
    "    \n",
    "    multiplier += 1 # updating the condition\n",
    "    "
   ]
  },
  {
   "cell_type": "code",
   "execution_count": 53,
   "id": "c78a5683-b60a-40b6-9e93-dad0dcc1bbea",
   "metadata": {
    "tags": []
   },
   "outputs": [
    {
     "name": "stdout",
     "output_type": "stream",
     "text": [
      "* \n",
      "* * \n",
      "* * * \n",
      "* * * * \n",
      "* * * * * \n"
     ]
    }
   ],
   "source": [
    "#Nested loop\n",
    "rows = 5\n",
    "i = 0\n",
    "while (i< rows):\n",
    "    j = 0\n",
    "    while j <= i:\n",
    "        print(\"*\", end=\" \")\n",
    "        j += 1\n",
    "    print()\n",
    "    i +=1"
   ]
  },
  {
   "cell_type": "code",
   "execution_count": 52,
   "id": "5a529c28-e369-4b6e-b2cf-a31dbdb660b6",
   "metadata": {
    "tags": []
   },
   "outputs": [
    {
     "name": "stdout",
     "output_type": "stream",
     "text": [
      "* \n",
      "* * \n",
      "* * * \n",
      "* * * * \n",
      "* * * * * \n"
     ]
    }
   ],
   "source": [
    "rows = 5\n",
    "i = 0\n",
    "\n",
    "while (i < rows):\n",
    "    j = 0\n",
    "    while j <= i:\n",
    "        print(\"*\", end=\" \")\n",
    "        j += 1\n",
    "    print()\n",
    "    i += 1"
   ]
  },
  {
   "cell_type": "code",
   "execution_count": null,
   "id": "c0f6e639-2034-4f03-918a-ef3cec39bb27",
   "metadata": {},
   "outputs": [],
   "source": []
  }
 ],
 "metadata": {
  "kernelspec": {
   "display_name": "Python 3 (ipykernel)",
   "language": "python",
   "name": "python3"
  },
  "language_info": {
   "codemirror_mode": {
    "name": "ipython",
    "version": 3
   },
   "file_extension": ".py",
   "mimetype": "text/x-python",
   "name": "python",
   "nbconvert_exporter": "python",
   "pygments_lexer": "ipython3",
   "version": "3.11.3"
  }
 },
 "nbformat": 4,
 "nbformat_minor": 5
}
