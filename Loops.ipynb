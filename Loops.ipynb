{
 "cells": [
  {
   "cell_type": "code",
   "execution_count": null,
   "id": "08ce94f5-cc76-495b-9e4b-8f54bfe57352",
   "metadata": {},
   "outputs": [],
   "source": []
  },
  {
   "cell_type": "code",
   "execution_count": null,
   "id": "2087a997-0411-45be-8d49-fdbb72dbbd36",
   "metadata": {},
   "outputs": [],
   "source": [
    "### For Loop\n",
    "\n",
    "* Basic syntax \n",
    "\n",
    "```\n",
    "for item in sequence:\n",
    "    # code to be executed for each item\n",
    "    # ...\n",
    "```\n",
    "\n",
    "* `for`: Keyword that signals the start of a for loop.\n",
    "* `item`: Is a variable that represents the current item in the sequence during each iteration of the loop.\n",
    "* `in` : A keyword used to specify that you are iterating *in* the given sequence.\n",
    "* `sequence` : Collection of items that you want to iterate over (e.g., list, string, tuple, or range).\n",
    "* `:` : Signifies the start of the ind\n",
    "dented code block that will be executed for each iteration of the loop. \n",
    "\n",
    "Inside the indented code block, you place the actions or operations that you want to perform on each item in the sequence.The loop will automatically iterate through the entire sequence, executing the code block for each item."
   ]
  },
  {
   "cell_type": "code",
   "execution_count": 9,
   "id": "12234f98-c969-4a6e-827b-21eff37654e4",
   "metadata": {
    "tags": []
   },
   "outputs": [
    {
     "name": "stdout",
     "output_type": "stream",
     "text": [
      "Kisumu\n",
      "Kisii\n",
      "Nyamira\n"
     ]
    }
   ],
   "source": [
    "# code demonstration\n",
    "# list of high courts in Kenya \n",
    "\n",
    "high_court=['Kisumu','Kisii', 'Nyamira', 'Migori', 'Kitale']\n",
    "for court in high_court:\n",
    "    # code block to execute for each item\n",
    "    print(court)\n",
    "    if(court=='Nyamira'):\n",
    "        break;"
   ]
  },
  {
   "cell_type": "code",
   "execution_count": 8,
   "id": "0c334975-5aa0-48b9-b4d3-283fdcabaa5e",
   "metadata": {
    "tags": []
   },
   "outputs": [
    {
     "data": {
      "text/plain": [
       "True"
      ]
     },
     "execution_count": 8,
     "metadata": {},
     "output_type": "execute_result"
    }
   ],
   "source": [
    "4==5\n",
    "4==4"
   ]
  },
  {
   "cell_type": "code",
   "execution_count": null,
   "id": "eb054d25-2c0e-4816-a0b6-2d26f6af5466",
   "metadata": {},
   "outputs": [],
   "source": [
    "### Sequence Types\n",
    "* Referes to data structures that hold collection of elemnets, whwre each element is accessible by an index or a key.\n",
    "*These elements are ordered meaning they have a specific position with the sequence."
   ]
  },
  {
   "cell_type": "code",
   "execution_count": 16,
   "id": "1bf62340-ed0c-46bb-8b6a-4fbab2e86fb8",
   "metadata": {
    "tags": []
   },
   "outputs": [
    {
     "name": "stdout",
     "output_type": "stream",
     "text": [
      "KISUMU\n",
      "KISII\n",
      "NYAMIRA\n",
      "MIGORI\n",
      "KITALE\n"
     ]
    }
   ],
   "source": [
    "#looping through list court\n",
    "for court in high_court:\n",
    "    lower_case= court.lower()\n",
    "    upper_case= court.upper()\n",
    "    print(upper_case)"
   ]
  },
  {
   "cell_type": "code",
   "execution_count": 17,
   "id": "6d49c8f1-a27b-42b8-b606-3cda418337e0",
   "metadata": {
    "tags": []
   },
   "outputs": [
    {
     "name": "stdout",
     "output_type": "stream",
     "text": [
      "['Kisumu', 'Kisii', 'Nyamira', 'Migori', 'Kitale']\n"
     ]
    }
   ],
   "source": [
    "print(high_court)"
   ]
  },
  {
   "cell_type": "code",
   "execution_count": 13,
   "id": "357fa349-ca7c-439b-8460-85ee49ecc8c0",
   "metadata": {
    "tags": []
   },
   "outputs": [
    {
     "name": "stdout",
     "output_type": "stream",
     "text": [
      "['Kisumu', 'Kisii', 'Nyamira', 'Migori', 'Kitale']\n",
      "Nyamira\n"
     ]
    }
   ],
   "source": [
    "# list\n",
    "print(high_court)\n",
    "# accessing elemnets/items in a list by index\n",
    "print(high_court[2])"
   ]
  },
  {
   "cell_type": "code",
   "execution_count": 18,
   "id": "b74999a3-ec0c-421a-98e7-36398e7a4d40",
   "metadata": {
    "tags": []
   },
   "outputs": [
    {
     "name": "stdout",
     "output_type": "stream",
     "text": [
      "('Kocheli', 'Solo', 'Nyambane', 'Yusuf')\n"
     ]
    }
   ],
   "source": [
    "# Tuple is similar to lists but the are immutable/cannot be changed, meaning:\n",
    "#their contents cannot be changed after creation\n",
    "#Syntax tuple_name = (Item1, Item 2.....)\n",
    "noise_makers= (\"Kocheli\", \"Solo\", \"Nyambane\", \"Yusuf\")\n",
    "print(noise_makers)"
   ]
  },
  {
   "cell_type": "code",
   "execution_count": 21,
   "id": "5d91f8ea-3eae-484d-9bc1-c51b9b215d1b",
   "metadata": {
    "tags": []
   },
   "outputs": [
    {
     "name": "stdout",
     "output_type": "stream",
     "text": [
      "Kocheli\n",
      "Solo\n",
      "Nyambane\n",
      "Yusuf\n"
     ]
    }
   ],
   "source": [
    "#loop through items in tuple\n",
    "for noise_maker in noise_makers:\n",
    "    #code to be executed\n",
    "    print(noise_maker)"
   ]
  },
  {
   "cell_type": "code",
   "execution_count": 24,
   "id": "460fdbe9-6843-45d4-bb1e-a2be75605ba4",
   "metadata": {
    "tags": []
   },
   "outputs": [
    {
     "name": "stdout",
     "output_type": "stream",
     "text": [
      "Kocheli\n"
     ]
    }
   ],
   "source": [
    "# accessing items in a tuple\n",
    "    \n",
    "print(noise_makers[0])\n",
    "    \n"
   ]
  },
  {
   "cell_type": "code",
   "execution_count": null,
   "id": "6ff20127-a56f-4639-b834-1a088844676b",
   "metadata": {},
   "outputs": [],
   "source": []
  },
  {
   "cell_type": "code",
   "execution_count": null,
   "id": "dddc2ece-54de-43c6-8aa4-a513b6d13933",
   "metadata": {},
   "outputs": [],
   "source": []
  },
  {
   "cell_type": "code",
   "execution_count": null,
   "id": "bb5999a1-26ef-43bf-82f7-9a4d0f4b69cc",
   "metadata": {
    "jupyter": {
     "source_hidden": true
    },
    "tags": []
   },
   "outputs": [],
   "source": [
    "Loop Body\n",
    "\n",
    "*"
   ]
  },
  {
   "cell_type": "code",
   "execution_count": null,
   "id": "7f709f95-3768-4cf3-affd-1c8140e73610",
   "metadata": {},
   "outputs": [],
   "source": [
    "### Importanat points to consider:\n",
    "1.**indentation** - The loop body is indented to indicate thta is part of the loop. it deifess the scope of loop body\n",
    "2.**Iterations**- loop body is excuted onnce for each item in sequence that contains the elemnet upon which instructions and execution will be repeated.\n",
    "3. **accessing loop varaiable**- The loop variable value can be accessed inside the loop body to perform specific actions to that value.\n",
    "4.** Manipulation**- Inside the loop body you can perform various operations on the loop variable or use it to interact with other parts of the programm.\n"
   ]
  },
  {
   "cell_type": "code",
   "execution_count": 3,
   "id": "74cd71b4-62aa-4f6c-8cc5-3a95411c0f13",
   "metadata": {
    "tags": []
   },
   "outputs": [
    {
     "name": "stdout",
     "output_type": "stream",
     "text": [
      "The square of 1=1\n",
      "The square of 2=4\n",
      "The square of 3=9\n",
      "The square of 4=16\n",
      "The square of 5=25\n"
     ]
    }
   ],
   "source": [
    "# Example\n",
    "# ** to power 2\n",
    "for num in range(1 ,6):\n",
    "    square=num**2\n",
    "    print(f\"The square of {num}={square}\")"
   ]
  },
  {
   "cell_type": "code",
   "execution_count": null,
   "id": "ecd63960-eb63-41aa-ad9c-12841e234592",
   "metadata": {},
   "outputs": [],
   "source": []
  },
  {
   "cell_type": "markdown",
   "id": "46572718-f379-4b15-8005-fe46e877d335",
   "metadata": {},
   "source": [
    "### 'range ()\n",
    "* a function commonly used especially when wirking with loops\n",
    "* Generates a sequence of numbers within specified range, which can be used for various purposes e.g eviterating through a loop of ceratin numbers or creating a list of numbers\n",
    "* 'range()' takes up to three arguments\n",
    "1. **start(inclusive, optional)** - The starting value of the sequence. If omitted, the sequence starts from zero by default.\n",
    "2. **stop(exclusive)** - The ending value of the sequence. The sequence will go up to the value, but not include the value in the sequence. example if stop is 50, and start is 0, the sequence will be all the numbers including 0 to 49, but not 50.\n",
    "3. **step(optional)** - The difference between consecutive values in the sequence. By default, the value of step is 1.\n",
    "*syntax \n",
    "```range(start, stop, step)``\n"
   ]
  },
  {
   "cell_type": "code",
   "execution_count": null,
   "id": "cd814ac2-f3bf-4617-b8e5-1bbd23df27b4",
   "metadata": {},
   "outputs": [],
   "source": [
    "#### Basic range\n",
    "\n",
    "* Only using stop to generate a sequence of numbers from 0 to 10\n",
    "* Remember if you dont include start and step, python will automatically pick the numbers 0 and 1 as the default value for stop and step"
   ]
  },
  {
   "cell_type": "code",
   "execution_count": 14,
   "id": "09c39a71-497a-4628-88bd-fe555cd1d20e",
   "metadata": {
    "tags": []
   },
   "outputs": [
    {
     "name": "stdout",
     "output_type": "stream",
     "text": [
      "0\n",
      "1\n",
      "2\n",
      "3\n",
      "4\n",
      "5\n",
      "6\n",
      "7\n",
      "8\n",
      "9\n",
      "10\n"
     ]
    }
   ],
   "source": [
    "# from 0 to 10\n",
    "for num in range (11):\n",
    "    print(num)"
   ]
  },
  {
   "cell_type": "code",
   "execution_count": 5,
   "id": "9a7d3928-0b06-4b6b-98fb-23c8dc5ef544",
   "metadata": {
    "tags": []
   },
   "outputs": [
    {
     "name": "stdout",
     "output_type": "stream",
     "text": [
      "HelloLumumba, welcome to training!!\n"
     ]
    }
   ],
   "source": [
    "def greet_students(student_name):\n",
    "    message= f\"Hello{student_name}, welcome to training!!\"\n",
    "    return print (message)\n",
    "greet_students(\"Lumumba\")"
   ]
  },
  {
   "cell_type": "markdown",
   "id": "3a8b4016-0a54-4799-b92e-77b0689aaece",
   "metadata": {
    "tags": []
   },
   "source": [
    "#### specify start and stop\n",
    "*generate a sequence where we specify start of the sequenec \n"
   ]
  },
  {
   "cell_type": "code",
   "execution_count": 15,
   "id": "a2874341-3f18-4f2d-a6bd-2d3b27b41591",
   "metadata": {
    "tags": []
   },
   "outputs": [
    {
     "name": "stdout",
     "output_type": "stream",
     "text": [
      "30\n",
      "31\n",
      "32\n",
      "33\n",
      "34\n",
      "35\n",
      "36\n",
      "37\n",
      "38\n",
      "39\n",
      "40\n"
     ]
    }
   ],
   "source": [
    "#number between 30 and 40\n",
    "for num in range (30, 41):\n",
    "    print(num)"
   ]
  },
  {
   "cell_type": "code",
   "execution_count": null,
   "id": "5ca77a77-2011-496b-9537-7abb66a414aa",
   "metadata": {},
   "outputs": [],
   "source": [
    "#number between 30 and 40\n",
    "for num in range (30, 41):\n",
    "    print(num)"
   ]
  },
  {
   "cell_type": "code",
   "execution_count": null,
   "id": "901d8344-8482-457e-b912-bece606ea108",
   "metadata": {},
   "outputs": [],
   "source": [
    "#### Specufying start, stop and step\n",
    "step is the diffrence btwn two consecutive numbers"
   ]
  },
  {
   "cell_type": "code",
   "execution_count": 16,
   "id": "71e9f79c-d198-4f47-92bd-f7eac73f31b6",
   "metadata": {
    "tags": []
   },
   "outputs": [
    {
     "name": "stdout",
     "output_type": "stream",
     "text": [
      "3\n",
      "6\n",
      "9\n",
      "12\n",
      "15\n",
      "18\n",
      "21\n",
      "24\n",
      "27\n",
      "30\n"
     ]
    }
   ],
   "source": [
    "# all numbers divisible by 3 between 3 and\n",
    "for num in range (3, 31, 3):\n",
    "    print(num)"
   ]
  },
  {
   "cell_type": "code",
   "execution_count": 17,
   "id": "2d96c7b0-07ad-498f-9c67-7d5786978f46",
   "metadata": {
    "tags": []
   },
   "outputs": [
    {
     "name": "stdout",
     "output_type": "stream",
     "text": [
      "6\n",
      "9\n",
      "12\n",
      "15\n",
      "18\n",
      "21\n",
      "24\n",
      "27\n",
      "30\n",
      "33\n",
      "36\n",
      "39\n"
     ]
    }
   ],
   "source": [
    "# all even numbers divisible by 3 between 3 and\n",
    "for num in range (6, 42, 3):\n",
    "    print(num)"
   ]
  },
  {
   "cell_type": "code",
   "execution_count": 24,
   "id": "b08f5fbc-b13a-4355-8a66-3f7276071c5e",
   "metadata": {
    "tags": []
   },
   "outputs": [
    {
     "ename": "NameError",
     "evalue": "name 'students_name' is not defined",
     "output_type": "error",
     "traceback": [
      "\u001b[1;31m---------------------------------------------------------------------------\u001b[0m",
      "\u001b[1;31mNameError\u001b[0m                                 Traceback (most recent call last)",
      "Cell \u001b[1;32mIn[24], line 1\u001b[0m\n\u001b[1;32m----> 1\u001b[0m \u001b[38;5;28mprint\u001b[39m(students_name)\n",
      "\u001b[1;31mNameError\u001b[0m: name 'students_name' is not defined"
     ]
    }
   ],
   "source": [
    "print(students_name)"
   ]
  },
  {
   "cell_type": "code",
   "execution_count": 25,
   "id": "5baa7a61-5035-4ebb-bc12-e5025cefa443",
   "metadata": {
    "tags": []
   },
   "outputs": [
    {
     "name": "stdout",
     "output_type": "stream",
     "text": [
      "[0, 2, 4, 6, 8, 10, 12, 14, 16, 18, 20, 22, 24, 26, 28, 30]\n"
     ]
    }
   ],
   "source": [
    "#Disclaimer -- fot demo only\n",
    "even_numbers=[]\n",
    "for num in range(0,32,2):\n",
    "    even_numbers.append(num)\n",
    "print(even_numbers)"
   ]
  },
  {
   "cell_type": "code",
   "execution_count": 22,
   "id": "d08abbc4-375a-4067-b388-77f7044dccba",
   "metadata": {
    "tags": []
   },
   "outputs": [
    {
     "ename": "NameError",
     "evalue": "name 'student_names' is not defined",
     "output_type": "error",
     "traceback": [
      "\u001b[1;31m---------------------------------------------------------------------------\u001b[0m",
      "\u001b[1;31mNameError\u001b[0m                                 Traceback (most recent call last)",
      "Cell \u001b[1;32mIn[22], line 1\u001b[0m\n\u001b[1;32m----> 1\u001b[0m \u001b[38;5;28mprint\u001b[39m(student_names)\n",
      "\u001b[1;31mNameError\u001b[0m: name 'student_names' is not defined"
     ]
    }
   ],
   "source": [
    "print(student_name)"
   ]
  },
  {
   "cell_type": "code",
   "execution_count": 26,
   "id": "eadb83e3-59d7-48d8-8f3e-afecf06d1278",
   "metadata": {
    "tags": []
   },
   "outputs": [
    {
     "ename": "NameError",
     "evalue": "name 'noise_makers' is not defined",
     "output_type": "error",
     "traceback": [
      "\u001b[1;31m---------------------------------------------------------------------------\u001b[0m",
      "\u001b[1;31mNameError\u001b[0m                                 Traceback (most recent call last)",
      "Cell \u001b[1;32mIn[26], line 1\u001b[0m\n\u001b[1;32m----> 1\u001b[0m \u001b[38;5;28mprint\u001b[39m(noise_makers)\n",
      "\u001b[1;31mNameError\u001b[0m: name 'noise_makers' is not defined"
     ]
    }
   ],
   "source": [
    "print(noise_makers)"
   ]
  },
  {
   "cell_type": "code",
   "execution_count": 27,
   "id": "9609a6b5-c603-4302-a3e5-2e358ceac5b3",
   "metadata": {
    "tags": []
   },
   "outputs": [],
   "source": [
    "#nested loops\n"
   ]
  },
  {
   "cell_type": "code",
   "execution_count": 5,
   "id": "b736a35e-a1d9-4b30-af75-d2c8076c7b1c",
   "metadata": {
    "tags": []
   },
   "outputs": [
    {
     "name": "stdout",
     "output_type": "stream",
     "text": [
      "HelloLumumba, welcome to training!!\n"
     ]
    }
   ],
   "source": [
    "def greet_students(student_name):\n",
    "    message= f\"Hello{student_name}, welcome to training!!\"\n",
    "    return print (message)\n",
    "greet_students(\"Lumumba\")"
   ]
  },
  {
   "cell_type": "code",
   "execution_count": null,
   "id": "ba489d0e-e88a-455a-9389-8c15442cecec",
   "metadata": {
    "tags": []
   },
   "outputs": [],
   "source": [
    "student_names= ['Prof','Lumumba','Julia']\n",
    "                for name in student_names:\n",
    "                greet_students(name)"
   ]
  },
  {
   "cell_type": "code",
   "execution_count": null,
   "id": "0cbde1ce-e30a-45df-adaf-91980e694fea",
   "metadata": {
    "tags": []
   },
   "outputs": [],
   "source": []
  },
  {
   "cell_type": "code",
   "execution_count": 29,
   "id": "00e0189d-6b16-4016-b35c-f25d25afd1e0",
   "metadata": {
    "tags": []
   },
   "outputs": [
    {
     "name": "stdout",
     "output_type": "stream",
     "text": [
      "* \n",
      "* * \n",
      "* * * \n",
      "* * * * \n"
     ]
    }
   ],
   "source": [
    "for i in range(1, 5):  \n",
    "    print('* ' * i)"
   ]
  },
  {
   "cell_type": "code",
   "execution_count": 31,
   "id": "77d0eb86-cf9b-406a-80db-b06aece2915f",
   "metadata": {
    "tags": []
   },
   "outputs": [
    {
     "name": "stdout",
     "output_type": "stream",
     "text": [
      "* \n",
      "* * \n",
      "* * * \n",
      "* * * * \n"
     ]
    }
   ],
   "source": [
    "#define number of rows\n",
    "num_rows=4\n",
    "#outer loop for rows\n",
    "for i in range(num_rows):\n",
    "    #inner loop for printing the asterix(*)\n",
    "    for j in range(i+1):\n",
    "        print(\"*\",end=\" \")\n",
    "    # move the next line after each row is printed\n",
    "    print()\n",
    "\n",
    "    "
   ]
  },
  {
   "cell_type": "code",
   "execution_count": null,
   "id": "3a52ec69-1246-4d9b-bf5c-cd7ae09224ba",
   "metadata": {},
   "outputs": [],
   "source": []
  }
 ],
 "metadata": {
  "kernelspec": {
   "display_name": "Python 3 (ipykernel)",
   "language": "python",
   "name": "python3"
  },
  "language_info": {
   "codemirror_mode": {
    "name": "ipython",
    "version": 3
   },
   "file_extension": ".py",
   "mimetype": "text/x-python",
   "name": "python",
   "nbconvert_exporter": "python",
   "pygments_lexer": "ipython3",
   "version": "3.11.3"
  }
 },
 "nbformat": 4,
 "nbformat_minor": 5
}
