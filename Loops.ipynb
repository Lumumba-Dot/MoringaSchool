{
 "cells": [
  {
   "cell_type": "code",
   "execution_count": null,
   "id": "08ce94f5-cc76-495b-9e4b-8f54bfe57352",
   "metadata": {},
   "outputs": [],
   "source": []
  },
  {
   "cell_type": "code",
   "execution_count": null,
   "id": "2087a997-0411-45be-8d49-fdbb72dbbd36",
   "metadata": {},
   "outputs": [],
   "source": [
    "### For Loop\n",
    "\n",
    "* Basic syntax \n",
    "\n",
    "```\n",
    "for item in sequence:\n",
    "    # code to be executed for each item\n",
    "    # ...\n",
    "```\n",
    "\n",
    "* `for`: Keyword that signals the start of a for loop.\n",
    "* `item`: Is a variable that represents the current item in the sequence during each iteration of the loop.\n",
    "* `in` : A keyword used to specify that you are iterating *in* the given sequence.\n",
    "* `sequence` : Collection of items that you want to iterate over (e.g., list, string, tuple, or range).\n",
    "* `:` : Signifies the start of the ind\n",
    "dented code block that will be executed for each iteration of the loop. \n",
    "\n",
    "Inside the indented code block, you place the actions or operations that you want to perform on each item in the sequence.The loop will automatically iterate through the entire sequence, executing the code block for each item."
   ]
  },
  {
   "cell_type": "code",
   "execution_count": 9,
   "id": "12234f98-c969-4a6e-827b-21eff37654e4",
   "metadata": {
    "tags": []
   },
   "outputs": [
    {
     "name": "stdout",
     "output_type": "stream",
     "text": [
      "Kisumu\n",
      "Kisii\n",
      "Nyamira\n"
     ]
    }
   ],
   "source": [
    "# code demonstration\n",
    "# list of high courts in Kenya \n",
    "\n",
    "high_court=['Kisumu','Kisii', 'Nyamira', 'Migori', 'Kitale']\n",
    "for court in high_court:\n",
    "    # code block to execute for each item\n",
    "    print(court)\n",
    "    if(court=='Nyamira'):\n",
    "        break;"
   ]
  },
  {
   "cell_type": "code",
   "execution_count": 8,
   "id": "0c334975-5aa0-48b9-b4d3-283fdcabaa5e",
   "metadata": {
    "tags": []
   },
   "outputs": [
    {
     "data": {
      "text/plain": [
       "True"
      ]
     },
     "execution_count": 8,
     "metadata": {},
     "output_type": "execute_result"
    }
   ],
   "source": [
    "4==5\n",
    "4==4"
   ]
  },
  {
   "cell_type": "code",
   "execution_count": null,
   "id": "eb054d25-2c0e-4816-a0b6-2d26f6af5466",
   "metadata": {},
   "outputs": [],
   "source": [
    "### Sequence Types\n",
    "* Referes to data structures that hold collection of elemnets, whwre each element is accessible by an index or a key.\n",
    "*These elements are ordered meaning they have a specific position with the sequence."
   ]
  },
  {
   "cell_type": "code",
   "execution_count": 16,
   "id": "1bf62340-ed0c-46bb-8b6a-4fbab2e86fb8",
   "metadata": {
    "tags": []
   },
   "outputs": [
    {
     "name": "stdout",
     "output_type": "stream",
     "text": [
      "KISUMU\n",
      "KISII\n",
      "NYAMIRA\n",
      "MIGORI\n",
      "KITALE\n"
     ]
    }
   ],
   "source": [
    "#looping through list court\n",
    "for court in high_court:\n",
    "    lower_case= court.lower()\n",
    "    upper_case= court.upper()\n",
    "    print(upper_case)"
   ]
  },
  {
   "cell_type": "code",
   "execution_count": 17,
   "id": "6d49c8f1-a27b-42b8-b606-3cda418337e0",
   "metadata": {
    "tags": []
   },
   "outputs": [
    {
     "name": "stdout",
     "output_type": "stream",
     "text": [
      "['Kisumu', 'Kisii', 'Nyamira', 'Migori', 'Kitale']\n"
     ]
    }
   ],
   "source": [
    "print(high_court)"
   ]
  },
  {
   "cell_type": "code",
   "execution_count": 13,
   "id": "357fa349-ca7c-439b-8460-85ee49ecc8c0",
   "metadata": {
    "tags": []
   },
   "outputs": [
    {
     "name": "stdout",
     "output_type": "stream",
     "text": [
      "['Kisumu', 'Kisii', 'Nyamira', 'Migori', 'Kitale']\n",
      "Nyamira\n"
     ]
    }
   ],
   "source": [
    "# list\n",
    "print(high_court)\n",
    "# accessing elemnets/items in a list by index\n",
    "print(high_court[2])"
   ]
  },
  {
   "cell_type": "code",
   "execution_count": 18,
   "id": "b74999a3-ec0c-421a-98e7-36398e7a4d40",
   "metadata": {
    "tags": []
   },
   "outputs": [
    {
     "name": "stdout",
     "output_type": "stream",
     "text": [
      "('Kocheli', 'Solo', 'Nyambane', 'Yusuf')\n"
     ]
    }
   ],
   "source": [
    "# Tuple is similar to lists but the are immutable/cannot be changed, meaning:\n",
    "#their contents cannot be changed after creation\n",
    "#Syntax tuple_name = (Item1, Item 2.....)\n",
    "noise_makers= (\"Kocheli\", \"Solo\", \"Nyambane\", \"Yusuf\")\n",
    "print(noise_makers)"
   ]
  },
  {
   "cell_type": "code",
   "execution_count": 21,
   "id": "5d91f8ea-3eae-484d-9bc1-c51b9b215d1b",
   "metadata": {
    "tags": []
   },
   "outputs": [
    {
     "name": "stdout",
     "output_type": "stream",
     "text": [
      "Kocheli\n",
      "Solo\n",
      "Nyambane\n",
      "Yusuf\n"
     ]
    }
   ],
   "source": [
    "#loop through items in tuple\n",
    "for noise_maker in noise_makers:\n",
    "    #code to be executed\n",
    "    print(noise_maker)"
   ]
  },
  {
   "cell_type": "code",
   "execution_count": 24,
   "id": "460fdbe9-6843-45d4-bb1e-a2be75605ba4",
   "metadata": {
    "tags": []
   },
   "outputs": [
    {
     "name": "stdout",
     "output_type": "stream",
     "text": [
      "Kocheli\n"
     ]
    }
   ],
   "source": [
    "# accessing items in a tuple\n",
    "    \n",
    "print(noise_makers[0])\n",
    "    \n"
   ]
  },
  {
   "cell_type": "code",
   "execution_count": null,
   "id": "6ff20127-a56f-4639-b834-1a088844676b",
   "metadata": {},
   "outputs": [],
   "source": []
  }
 ],
 "metadata": {
  "kernelspec": {
   "display_name": "Python 3 (ipykernel)",
   "language": "python",
   "name": "python3"
  },
  "language_info": {
   "codemirror_mode": {
    "name": "ipython",
    "version": 3
   },
   "file_extension": ".py",
   "mimetype": "text/x-python",
   "name": "python",
   "nbconvert_exporter": "python",
   "pygments_lexer": "ipython3",
   "version": "3.11.3"
  }
 },
 "nbformat": 4,
 "nbformat_minor": 5
}
