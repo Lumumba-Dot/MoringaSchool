{
 "cells": [
  {
   "cell_type": "code",
   "execution_count": 5,
   "id": "1aa608c7-cdbd-41d5-9243-adfd8e7f37a9",
   "metadata": {
    "tags": []
   },
   "outputs": [
    {
     "name": "stdout",
     "output_type": "stream",
     "text": [
      "2\n"
     ]
    }
   ],
   "source": [
    "#set-uo vacation_days variable\n",
    "vacation_days=0\n",
    "## add 1 to vacation_days and rewrite itself\n",
    "vacation_days = vacation_days + 1\n",
    "vacation_days = vacation_days + 1\n",
    "\n",
    "# print how many vacation days there are\n",
    "\n",
    "print(vacation_days)"
   ]
  },
  {
   "cell_type": "code",
   "execution_count": 7,
   "id": "590a0148-7172-40a9-8026-4ddf0123fc65",
   "metadata": {
    "tags": []
   },
   "outputs": [
    {
     "name": "stdout",
     "output_type": "stream",
     "text": [
      "vacation_days =  2\n",
      "we incremented vacation days\n"
     ]
    }
   ],
   "source": [
    "vacation_days = 1\n",
    "\n",
    "goals_met = True\n",
    "\n",
    "if goals_met:\n",
    "\n",
    "   # all code indented under the if statement is the block\n",
    "\n",
    "   # indented code runs since conditional argument is True\n",
    "\n",
    "   vacation_days += 1\n",
    "\n",
    "   print(\"vacation_days = \", vacation_days)\n",
    "\n",
    "   print(\"we incremented vacation days\")\n",
    "\n",
    "# if block ends\n"
   ]
  },
  {
   "cell_type": "code",
   "execution_count": null,
   "id": "b368c8aa-7ced-4ccf-a2ee-cb0c24dab68f",
   "metadata": {},
   "outputs": [],
   "source": []
  },
  {
   "cell_type": "code",
   "execution_count": 17,
   "id": "194e5b17-d4ca-4584-9c96-22cac2732392",
   "metadata": {
    "tags": []
   },
   "outputs": [
    {
     "name": "stdout",
     "output_type": "stream",
     "text": [
      "Odd number\n"
     ]
    }
   ],
   "source": [
    "#Assignment number 1\\n\",\n",
    "number =111\n",
    "quotient = (number%2)\n",
    "if (quotient == 0):\n",
    "    number =\"Even number\"\n",
    "    print(number)\n",
    "else : print(\"Odd number\")"
   ]
  },
  {
   "cell_type": "code",
   "execution_count": 18,
   "id": "c18459f9-41c9-44e2-8f77-e390fdb1495d",
   "metadata": {},
   "outputs": [
    {
     "name": "stdout",
     "output_type": "stream",
     "text": [
      "Not a leap year\n"
     ]
    }
   ],
   "source": [
    "#Assignment number \n",
    "Year = 2023\n",
    "quotient_1 = (Year%4)\n",
    "quotient_2 = (Year%100)\n",
    "quotient_3 = (Year%400)\n",
    "if (quotient_1 == 0 and quotient_2 != 0) or (quotient_1 == 0 and quotient_3 == 0):\n",
    "    Year = \"Leap year\"\n",
    "    print(Year)\n",
    "else: print(\"Not a leap year\")"
   ]
  },
  {
   "cell_type": "code",
   "execution_count": 25,
   "id": "2ceb5ccd-77a3-4582-a70d-071f4b715762",
   "metadata": {
    "tags": []
   },
   "outputs": [
    {
     "name": "stdout",
     "output_type": "stream",
     "text": [
      "('Price', 'Ksh.800')\n"
     ]
    }
   ],
   "source": [
    "# Assignment number 3\n",
    "#age < 13 >> price Ksh.400\n",
    "#age 13 <= age<= 17 >> Ksh.600\n",
    "#age 18 <= age<= 65 >> Ksh.800\n",
    "#age > 65 >> Ksh. 350\n",
    "age = 33\n",
    "if (age < 13):\n",
    "    age = \"Price\", \"Ksh.400\"\n",
    "    print(age)\n",
    "\n",
    "# elif statement ( else if)\n",
    "elif (age >=13) and (age <= 17):\n",
    "    age = \"Price\", \"Ksh.600\"\n",
    "    print(age)\n",
    "\n",
    "elif (age >= 18) and (age <= 65):\n",
    "    age = \"Price\", \"Ksh.800\"\n",
    "    print(age)\n",
    "\n",
    "elif (age > 65):\n",
    "    age = \"Price\", \"Ksh.350\"\n",
    "    print(age)"
   ]
  },
  {
   "cell_type": "code",
   "execution_count": null,
   "id": "8b0886d3-e745-43c0-a233-29c0d110bd7e",
   "metadata": {},
   "outputs": [],
   "source": []
  }
 ],
 "metadata": {
  "kernelspec": {
   "display_name": "Python 3 (ipykernel)",
   "language": "python",
   "name": "python3"
  },
  "language_info": {
   "codemirror_mode": {
    "name": "ipython",
    "version": 3
   },
   "file_extension": ".py",
   "mimetype": "text/x-python",
   "name": "python",
   "nbconvert_exporter": "python",
   "pygments_lexer": "ipython3",
   "version": "3.11.3"
  }
 },
 "nbformat": 4,
 "nbformat_minor": 5
}
